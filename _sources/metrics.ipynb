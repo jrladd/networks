{
 "cells": [
  {
   "cell_type": "markdown",
   "id": "a37457bf-aa44-404e-9476-e129bd8a93c5",
   "metadata": {},
   "source": [
    "# Metrics\n",
    "\n",
    "NetworkX includes a huge amount of algorithms and metrics. Here's a cheatsheet to the most common ones you'll need.\n",
    "\n",
    "## Network Properties"
   ]
  },
  {
   "cell_type": "code",
   "execution_count": 1,
   "id": "c31e3866-1a8f-4c52-8d6c-c2f1a5f3c0cf",
   "metadata": {},
   "outputs": [
    {
     "name": "stdout",
     "output_type": "stream",
     "text": [
      "Graph with 327 nodes and 9891 edges\n"
     ]
    }
   ],
   "source": [
    "# Import NetworkX and key data science libraries\n",
    "import networkx as nx\n",
    "import pandas as pd\n",
    "import numpy as np\n",
    "import seaborn as sns\n",
    "sns.set_theme()\n",
    "\n",
    "# Import Marvel network data\n",
    "marvel= pd.read_csv(\"data/marvel-unimodal-edges.csv\")\n",
    "M = nx.from_pandas_edgelist(marvel, source=\"Source\", target=\"Target\", edge_attr=True)\n",
    "print(M)"
   ]
  },
  {
   "cell_type": "code",
   "execution_count": 2,
   "id": "641f4e26-d71c-401a-9a2f-7b9c97decfc7",
   "metadata": {
    "tags": [
     "output_scroll"
    ]
   },
   "outputs": [
    {
     "data": {
      "text/plain": [
       "327"
      ]
     },
     "execution_count": 2,
     "metadata": {},
     "output_type": "execute_result"
    }
   ],
   "source": [
    "M.number_of_nodes() # Number of nodes"
   ]
  },
  {
   "cell_type": "code",
   "execution_count": 3,
   "id": "6cdbacc3-40ad-4eb4-a9c3-77bd550d03be",
   "metadata": {},
   "outputs": [
    {
     "data": {
      "text/plain": [
       "9891"
      ]
     },
     "execution_count": 3,
     "metadata": {},
     "output_type": "execute_result"
    }
   ],
   "source": [
    "M.number_of_edges() # Alternative method for number of edges"
   ]
  },
  {
   "cell_type": "code",
   "execution_count": 4,
   "id": "9e56038c-7613-483c-9be3-4e55191ff192",
   "metadata": {},
   "outputs": [
    {
     "data": {
      "text/plain": [
       "False"
      ]
     },
     "execution_count": 4,
     "metadata": {},
     "output_type": "execute_result"
    }
   ],
   "source": [
    "M.is_directed() # Is the graph directed?"
   ]
  },
  {
   "cell_type": "markdown",
   "id": "4cba13b5-f643-4858-a682-0dab3af9119f",
   "metadata": {},
   "source": [
    "## Paths"
   ]
  },
  {
   "cell_type": "code",
   "execution_count": 5,
   "id": "425179d4-4deb-465a-8081-d2eeea5c163f",
   "metadata": {},
   "outputs": [
    {
     "data": {
      "text/plain": [
       "[\"Black Panther / T'chal\", 'Firestar / Angelica Jo', 'Gambit / Remy Lebeau']"
      ]
     },
     "execution_count": 5,
     "metadata": {},
     "output_type": "execute_result"
    }
   ],
   "source": [
    "nx.shortest_path(M, \"Black Panther / T'chal\", \t\"Gambit / Remy Lebeau\") # Shortest path as list"
   ]
  },
  {
   "cell_type": "code",
   "execution_count": 6,
   "id": "0b185f31-1b2a-492f-8098-f7c481ffdb0f",
   "metadata": {},
   "outputs": [
    {
     "data": {
      "text/plain": [
       "2"
      ]
     },
     "execution_count": 6,
     "metadata": {},
     "output_type": "execute_result"
    }
   ],
   "source": [
    "nx.shortest_path_length(M, \"Black Panther / T'chal\", \"Gambit / Remy Lebeau\") #Shortest path length (Distance)"
   ]
  },
  {
   "cell_type": "code",
   "execution_count": 7,
   "id": "a9f78758-1b34-4c16-9b1c-527254c11b6b",
   "metadata": {},
   "outputs": [
    {
     "data": {
      "text/plain": [
       "1.873004258831917"
      ]
     },
     "execution_count": 7,
     "metadata": {},
     "output_type": "execute_result"
    }
   ],
   "source": [
    "nx.average_shortest_path_length(M) # Average shortest path length (Average distance)"
   ]
  },
  {
   "cell_type": "code",
   "execution_count": 8,
   "id": "cac1d773-553d-4c44-bd50-a8567bbb1bad",
   "metadata": {},
   "outputs": [
    {
     "data": {
      "text/plain": [
       "3"
      ]
     },
     "execution_count": 8,
     "metadata": {},
     "output_type": "execute_result"
    }
   ],
   "source": [
    "nx.diameter(M)"
   ]
  },
  {
   "cell_type": "markdown",
   "id": "1679880e-5ad9-43ca-8ce8-0ed56000ad85",
   "metadata": {},
   "source": [
    "## Components"
   ]
  },
  {
   "cell_type": "code",
   "execution_count": 9,
   "id": "3f0792e1-f8fc-4796-9708-e0c982665ff0",
   "metadata": {},
   "outputs": [
    {
     "data": {
      "text/plain": [
       "True"
      ]
     },
     "execution_count": 9,
     "metadata": {},
     "output_type": "execute_result"
    }
   ],
   "source": [
    "nx.is_connected(M) # Is the graph connected?"
   ]
  },
  {
   "cell_type": "code",
   "execution_count": 10,
   "id": "24d451ae-7e60-47da-a63e-655cf90baf68",
   "metadata": {},
   "outputs": [
    {
     "data": {
      "text/plain": [
       "1"
      ]
     },
     "execution_count": 10,
     "metadata": {},
     "output_type": "execute_result"
    }
   ],
   "source": [
    "nx.number_connected_components(M) # How many components are there?"
   ]
  },
  {
   "cell_type": "code",
   "execution_count": 11,
   "id": "2758ac09-ca07-4793-bc1c-323471c8c7b7",
   "metadata": {
    "tags": []
   },
   "outputs": [],
   "source": [
    "# Find the largest connected component (as a node set)\n",
    "components = [G for G in nx.connected_components(M)]\n",
    "largest = max(components, key=len)"
   ]
  },
  {
   "cell_type": "markdown",
   "id": "b21354f2-149b-4d62-b7bf-4494614fdf00",
   "metadata": {},
   "source": [
    "## Centrality\n",
    "\n",
    "Below I show just one example, but there are a range of [centrality functions](https://networkx.org/documentation/stable/reference/algorithms/centrality.html) in NetworkX. \n",
    "\n",
    "[n.b. I'll create a separate chapter on centrality soon.]"
   ]
  },
  {
   "cell_type": "code",
   "execution_count": 12,
   "id": "239cd89e-d8d6-4aba-a22c-3b844a2c5488",
   "metadata": {},
   "outputs": [],
   "source": [
    "# Calculate betweenness centrality for every node\n",
    "bc = nx.betweenness_centrality(M)"
   ]
  },
  {
   "cell_type": "markdown",
   "id": "bf67247f-d886-4172-a466-7701e151e950",
   "metadata": {},
   "source": [
    "## Triangles and Clustering"
   ]
  },
  {
   "cell_type": "code",
   "execution_count": 13,
   "id": "f0b164f3-8b78-46be-b55d-2a105c52ce96",
   "metadata": {
    "collapsed": true,
    "jupyter": {
     "outputs_hidden": true
    },
    "tags": [
     "output_scroll"
    ]
   },
   "outputs": [
    {
     "data": {
      "text/plain": [
       "{\"Black Panther / T'chal\": 2837,\n",
       " 'Loki [asgardian]': 1055,\n",
       " 'Mantis / ? Brandt': 277,\n",
       " 'Iceman / Robert Bobby': 5320,\n",
       " 'Marvel Girl / Jean Grey': 5050,\n",
       " 'Cyclops / Scott Summer': 6474,\n",
       " 'Klaw / Ulysses Klaw': 1012,\n",
       " 'Human Torch / Johnny S': 6282,\n",
       " 'Richards, Franklin B': 2444,\n",
       " 'Wolverine / Logan': 7168,\n",
       " 'Firebird / Bonita Juar': 643,\n",
       " 'Mr. Fantastic / Reed R': 6191,\n",
       " 'Medusa / Medusalith Am': 1019,\n",
       " 'Dr. Strange / Stephen': 4522,\n",
       " 'Jack Of Hearts / Jack': 576,\n",
       " 'Mephisto': 916,\n",
       " 'Thanos': 2337,\n",
       " 'Swordsman / Jacques Du': 342,\n",
       " 'Collector / Taneleer T': 393,\n",
       " 'Lockjaw [inhuman]': 865,\n",
       " 'Sub-mariner / Namor Ma': 4197,\n",
       " 'Pharaoh Rama-tut': 2562,\n",
       " 'Ant-man Ii / Scott Har': 917,\n",
       " 'Lyja Lazerfist [skru': 399,\n",
       " 'Gorgon [inhuman]': 837,\n",
       " 'Nighthawk Ii / Kyle Ri': 422,\n",
       " 'Cage, Luke / Carl Luca': 1200,\n",
       " 'Colossus Ii / Peter Ra': 6169,\n",
       " 'Hellcat / Patsy Walker': 1278,\n",
       " 'Karnak [inhuman]': 873,\n",
       " 'Death': 756,\n",
       " 'Redwing': 214,\n",
       " 'Daredevil / Matt Murdo': 4276,\n",
       " 'Norriss, Sister Barb': 1244,\n",
       " 'Rage / Elvin Daryl Hal': 875,\n",
       " 'Starfox / Eros': 1686,\n",
       " 'Demolition Man / Denni': 349,\n",
       " 'Sersi / Sylvia': 1906,\n",
       " 'Spider-man / Peter Parker': 6533,\n",
       " 'Vision': 6672,\n",
       " 'Uatu': 2324,\n",
       " 'Binary / Carol Danvers': 2010,\n",
       " 'Gyrich, Henry Peter': 985,\n",
       " 'Nightcrawler / Kurt Wa': 3965,\n",
       " 'Angel / Warren Kenneth': 5562,\n",
       " 'Silver Surfer / Norrin': 3697,\n",
       " 'She-hulk / Jennifer Wa': 5868,\n",
       " 'Ghaur [deviant]': 155,\n",
       " 'Dr. Doom / Victor Von': 4084,\n",
       " 'Storm / Ororo Munroe S': 6220,\n",
       " 'Scarlet Witch / Wanda': 6216,\n",
       " 'Toad / Mortimer Toynbe': 537,\n",
       " 'Hulk / Dr. Robert Bruce Banner': 5984,\n",
       " 'Firestar / Angelica Jo': 2659,\n",
       " 'Wonder Man / Simon Wil': 5412,\n",
       " 'Drax / Arthur Douglas': 2307,\n",
       " 'Dugan, Timothy Aloyi': 825,\n",
       " 'Carter, Sharon': 152,\n",
       " 'Black Knight V / Dane': 4610,\n",
       " 'Sunfire / Shiro Yoshid': 953,\n",
       " 'Triton': 606,\n",
       " 'Ultron': 1099,\n",
       " 'Jones, Richard Milho': 1590,\n",
       " 'Iron Man / Tony Stark': 5983,\n",
       " 'Nelson, Franklin Fog': 425,\n",
       " 'Captain America': 7888,\n",
       " 'Jarvis, Edwin': 3437,\n",
       " 'Quasar Iii / Wendell V': 4047,\n",
       " 'Jameson, J. Jonah': 1628,\n",
       " 'Masters, Alicia Reis': 1333,\n",
       " 'Magneto / Magnus / Eric': 3138,\n",
       " 'Invisible Woman / Sue': 6242,\n",
       " 'Professor X / Charles': 6081,\n",
       " 'Iron Fist / Daniel Ran': 1049,\n",
       " 'Black Bolt / Blackanto': 849,\n",
       " 'Hawk': 5168,\n",
       " 'Sandman / William Bake': 1088,\n",
       " 'Falcon / Sam Wilson': 2034,\n",
       " 'Stingray / Dr. Walter': 575,\n",
       " 'Justice Ii / Vance Ast': 876,\n",
       " 'Hercules [greek God]': 5530,\n",
       " 'Usagent / Captain John': 2828,\n",
       " 'Captain Marvel Ii / Mo': 2628,\n",
       " 'Crystal [inhuman]': 3778,\n",
       " 'Tigra / Greer Nelson': 2055,\n",
       " 'Spider-woman Ii / Juli': 2654,\n",
       " 'Machine Man / X-51': 814,\n",
       " 'Mockingbird / Dr. Barb': 1399,\n",
       " 'Captain Marvel / Capta': 564,\n",
       " 'Wasp / Janet Van Dyne': 5937,\n",
       " 'Fury, Col. Nicholas': 2781,\n",
       " 'Thor / Dr. Donald Blak': 5939,\n",
       " 'Quicksilver / Pietro M': 5163,\n",
       " 'Captain Britain / Bria': 692,\n",
       " 'Shadowcat / Katherine': 2969,\n",
       " 'Black Widow / Natasha': 4685,\n",
       " 'Ant-man / Dr. Henry J.': 5128,\n",
       " 'Moon Knight / Marc Spe': 1736,\n",
       " 'Jocasta': 316,\n",
       " 'Moondragon / Heather D': 3402,\n",
       " 'Thing / Benjamin J. Gr': 6867,\n",
       " 'Beast / Henry &hank& P': 6660,\n",
       " 'Nova / Richard Rider': 3271,\n",
       " 'Wrecker Iii / Dirk Gar': 1027,\n",
       " 'Warlock Ii / Adam Warl': 2287,\n",
       " 'Piledriver Ii / Brian': 928,\n",
       " 'Thunderball / Dr. Elio': 1042,\n",
       " 'Dr. Octopus / Otto Oct': 998,\n",
       " 'Banner, Betty Ross T': 581,\n",
       " 'Avalanche / Dominic Pe': 571,\n",
       " 'Attuma': 243,\n",
       " 'Hela [asgardian]': 279,\n",
       " 'Doc Samson / Dr. Leona': 685,\n",
       " 'Guardian / James Macdo': 456,\n",
       " 'Northstar / Jean-paul': 2137,\n",
       " 'Dr. Druid / Anthony Lu': 2075,\n",
       " 'Watson-parker, Mary': 805,\n",
       " 'Mystique / Raven Darkh': 1067,\n",
       " 'Pyro / Allerdyce Johnn': 740,\n",
       " 'Destiny Ii / Irene Adl': 418,\n",
       " 'Mister Hyde / Calvin Z': 189,\n",
       " 'Ghost Rider Ii / Johnn': 279,\n",
       " 'Mole Man / Harvey Rupe': 544,\n",
       " 'Firelord / Pyreus Kril': 540,\n",
       " 'Leader / Sam Sterns': 136,\n",
       " 'Le Fey, Morgan': 141,\n",
       " 'Bulldozer / Henry Camp': 928,\n",
       " 'Forgotten One / Gilgam': 310,\n",
       " 'Balder [asgardian]': 358,\n",
       " 'Hogun [asgardian]': 539,\n",
       " 'Hellstorm / Daimon Hel': 341,\n",
       " 'Aurora / Jeanne-marie': 1466,\n",
       " \"O'brien, Michael\": 437,\n",
       " 'Stankowicz, Fabian': 259,\n",
       " 'Screaming Mimi / Melis': 332,\n",
       " 'Moonstone Ii / Karla S': 556,\n",
       " 'Fixer Ii / Paul Norber': 399,\n",
       " 'Darkstar / Laynia Serg': 441,\n",
       " 'Vanguard / Nicolai Kry': 275,\n",
       " 'Gamora': 1577,\n",
       " 'Psylocke / Elisabeth B': 4245,\n",
       " 'Rogue  / ': 5545,\n",
       " 'Sasquatch / Walter Lan': 3138,\n",
       " 'Luna / Luna Maximoff [': 357,\n",
       " 'Whizzer Ii / Stanley S': 96,\n",
       " 'Dr. Spectrum / Joseph': 96,\n",
       " 'Kingpin / Wilson Fisk': 518,\n",
       " 'Clea': 171,\n",
       " 'Polaris / Lorna Dane': 3325,\n",
       " 'De La Fontaine, Cont': 174,\n",
       " 'Heimdall [asgardian]': 193,\n",
       " 'Red Skull / Johann Sch': 429,\n",
       " 'Thompson, Eugene Fla': 507,\n",
       " 'Wong': 412,\n",
       " 'Parker, May': 541,\n",
       " 'Green Goblin / Norman': 207,\n",
       " 'Night Thrasher / Duane': 252,\n",
       " 'Eternity / Adam Qadmon': 1623,\n",
       " 'Galactus / Galan': 3125,\n",
       " 'Triathlon / Delroy Gar': 334,\n",
       " 'Beetle / Abner Ronald': 659,\n",
       " 'Lilandra Neramani [s': 1290,\n",
       " 'Odin [asgardian]': 903,\n",
       " 'Hogan, Virginia Pepp': 113,\n",
       " 'Mad Dog / Colonel Buzz': 166,\n",
       " 'Kincaid, Dr. Jane Fo': 249,\n",
       " 'Wizard / Bentley Wittm': 309,\n",
       " 'Charcoal / Charlie Bur': 165,\n",
       " 'Blob / Fred J. Dukes': 1189,\n",
       " 'Cloak / Tyrone Johnson': 164,\n",
       " 'Thunderstrike / Eric K': 3331,\n",
       " 'Power Man / Erik Joste': 580,\n",
       " 'Human Torch Android / ': 468,\n",
       " 'Juggernaut / Cain Mark': 349,\n",
       " 'Absorbing Man / Carl C': 981,\n",
       " 'Volstagg': 466,\n",
       " 'Shaman / Michael Twoyo': 2187,\n",
       " 'Snowbird / Narya / Anne': 381,\n",
       " 'Dagger / Tandy Bowen': 273,\n",
       " 'Phoenix Iii / Rachel S': 892,\n",
       " 'Mandarin': 177,\n",
       " 'Fandral [asgardian]': 546,\n",
       " 'Ms. Marvel Ii / Sharon': 265,\n",
       " 'Pip / Prince Gofern': 1569,\n",
       " 'Enchantress / Amora / He': 1465,\n",
       " 'Jameson, Col. John': 328,\n",
       " 'Cooper, Dr. Valerie': 1411,\n",
       " 'Nova Ii / Frankie Raye': 1992,\n",
       " 'Darkhawk / Chris Powel': 1881,\n",
       " 'Nomad Iii / Jack Monro': 197,\n",
       " 'Robertson, Joe': 654,\n",
       " 'Gargoyle Ii / Isaac Ch': 549,\n",
       " 'Namorita / Nita Prenti': 2840,\n",
       " 'Iron Man Iv / James R.': 1520,\n",
       " 'Ross, Gen. Thaddeus': 384,\n",
       " 'Harkness, Agatha': 2391,\n",
       " 'Carter, Peggy': 387,\n",
       " 'Hyperion': 160,\n",
       " 'Living Lightning / Mig': 2888,\n",
       " 'Jones, Gabe': 304,\n",
       " 'Osborn, Liz Allan': 451,\n",
       " 'Leeds, Betty Brant': 508,\n",
       " 'Sif': 444,\n",
       " 'Dazzler Ii / Allison B': 970,\n",
       " 'Molecule Man / Owen Re': 731,\n",
       " 'Speedball / Robbie Bal': 2263,\n",
       " 'Lizard / Dr. Curtis Co': 778,\n",
       " 'Volcana / Marsha Rosen': 615,\n",
       " 'Lockheed': 796,\n",
       " 'Titania Ii / Mary Skee': 748,\n",
       " 'Boomer / Tabitha Smith': 1306,\n",
       " 'Summers, Nathan Chri': 1861,\n",
       " 'Summers, Madelyne Ma': 524,\n",
       " 'Mactaggert, Moira Ki': 1662,\n",
       " 'Cannonball Ii / Sam Gu': 2512,\n",
       " 'Tilby, Trish / Patrici': 423,\n",
       " 'Skids / Sally Blevins': 371,\n",
       " 'Wolfsbane / Rahne Sinc': 3135,\n",
       " 'Leech': 249,\n",
       " 'Mirage Ii / Danielle M': 907,\n",
       " 'Gambit / Remy Lebeau': 3766,\n",
       " 'Jubilee / Jubilation L': 1117,\n",
       " 'Strong Guy / Guido Car': 2793,\n",
       " 'Spiral': 328,\n",
       " 'Banshee / Sean Cassidy': 1321,\n",
       " 'Legion Ii / David Hall': 377,\n",
       " 'Havok / Alex Summers': 3894,\n",
       " 'Longshot': 450,\n",
       " 'Forge': 1666,\n",
       " 'Sabretooth / Victor Cr': 659,\n",
       " 'Maddicks, Arthur Art': 225,\n",
       " 'Warlock Iii': 1030,\n",
       " 'Rictor / Julio Esteban': 953,\n",
       " 'Sunspot / Roberto Daco': 1687,\n",
       " 'Firefist / Rusty Colli': 334,\n",
       " 'Bishop  / ': 1466,\n",
       " 'Daytripper / Amanda Se': 258,\n",
       " 'Wild Child / Kyle Gibn': 1274,\n",
       " 'Thunderbird Ii / James': 1105,\n",
       " 'Sauron / Dr. Karl Lyko': 267,\n",
       " 'Siryn / Theresa Rourke': 965,\n",
       " 'Shatterstar Ii / Gavee': 682,\n",
       " 'Marrow / Sarah': 424,\n",
       " 'Feral / Maria Callasan': 515,\n",
       " 'Callisto': 302,\n",
       " 'Mr. Sinister / Nathan': 395,\n",
       " 'Raza Longknife': 332,\n",
       " 'Spider-woman / Jessica': 371,\n",
       " 'Cypher / Doug Ramsey': 589,\n",
       " \"Deathbird [shi'ar]\": 297,\n",
       " 'Hudson, Heather': 2525,\n",
       " 'Stryfe': 518,\n",
       " 'Iron Man Doppelgange': 1031,\n",
       " 'Puck / Eugene Milton J': 2347,\n",
       " 'Silhouette': 519,\n",
       " 'Cortez, Fabian': 189,\n",
       " 'Black King / Sebastian': 402,\n",
       " 'Magik / Illyana Rasput': 605,\n",
       " 'Zabu': 229,\n",
       " 'Domino Iii / Beatrice / ': 229,\n",
       " 'Caliban / ': 607,\n",
       " 'Apocalypse / En Sabah': 1043,\n",
       " 'Hunter, Stevie': 588,\n",
       " 'Corsair': 486,\n",
       " \"Ch'od\": 377,\n",
       " \"Mam'selle Hepzibah\": 378,\n",
       " 'Zero': 431,\n",
       " 'X-man / Nathan Grey': 403,\n",
       " \"Karma / Xi'an Coy Manh\": 331,\n",
       " 'Mr. Fantastic Doppel': 1153,\n",
       " 'Beyonder': 482,\n",
       " 'Multiple Man / James A': 2008,\n",
       " 'Colossus Ii Doppelga': 325,\n",
       " 'Scanner Ii': 139,\n",
       " 'Ka-zar / Kevin Plunder': 418,\n",
       " 'White Queen / Emma Fro': 514,\n",
       " 'Magma / Amara Aquilla / ': 333,\n",
       " 'Thanos Doppelganger': 1688,\n",
       " 'Magus': 2249,\n",
       " 'Knight, Misty': 259,\n",
       " 'Wing, Colleen': 53,\n",
       " 'Puppet Master / Philli': 273,\n",
       " 'Maximus [inhuman]': 185,\n",
       " 'Punisher Ii / Frank Ca': 333,\n",
       " 'Zeus': 217,\n",
       " 'Box Iv / Madison Jeffr': 156,\n",
       " 'Thena': 159,\n",
       " 'Black Cat / Felicia Ha': 270,\n",
       " 'Gee / Alex Power': 123,\n",
       " 'Spider-man Clone / Ben': 111,\n",
       " 'Ulik': 128,\n",
       " 'Citizen V Ii / Helmut': 285,\n",
       " 'High Evolutionary / He': 439,\n",
       " 'Hobgoblin V / Jason Ph': 213,\n",
       " 'Ghost Rider Iii / Dan': 111,\n",
       " 'Cushing, Kate': 224,\n",
       " 'Katzenberg, Nick': 174,\n",
       " 'Vizier': 208,\n",
       " 'Tombstone / Lonnie Tho': 154,\n",
       " 'Mercado, Joy': 191,\n",
       " 'Hammerhead': 138,\n",
       " 'Arranger / ': 170,\n",
       " 'Osborn, Harry': 291,\n",
       " 'Cobra / Klaus Vorhees': 64,\n",
       " 'Leeds, Ned': 228,\n",
       " 'Watson, Anna': 249,\n",
       " 'Urich, Ben': 431,\n",
       " 'Robertson, Randy': 199,\n",
       " 'Page, Karen': 97,\n",
       " 'Grant, Gloria Glory': 295,\n",
       " 'Lubenski, Nate': 162,\n",
       " 'Ikaris / Ike Harris [e': 114,\n",
       " 'Rosenthal, Bernie': 133,\n",
       " 'Gladiator Ii': 214,\n",
       " 'Beta Ray Bill': 188,\n",
       " 'Bridge, George Washi': 92,\n",
       " 'Diamond Lil / Lillian': 81,\n",
       " 'Asp Ii / Cleo': 27,\n",
       " 'Black Mamba / Tanya Se': 27,\n",
       " 'Meggan': 187,\n",
       " 'Austin, Susan': 122,\n",
       " 'Diamondback Ii / Rache': 120,\n",
       " 'Makkari / Mike Khary / I': 195,\n",
       " 'Hodge, Cameron': 301,\n",
       " 'Skin / Angelo Espinosa': 72,\n",
       " 'Husk / Paige Guthrie': 93,\n",
       " 'Deadpool / Jack / Wade W': 61}"
      ]
     },
     "execution_count": 13,
     "metadata": {},
     "output_type": "execute_result"
    }
   ],
   "source": [
    "# Get number of triangles for every node\n",
    "nx.triangles(M)\n",
    "\n",
    "# n.b. Pay attention to the following note from the NetworkX docs:\n",
    "# When computing triangles for the entire graph each triangle is counted three times, once at each node."
   ]
  },
  {
   "cell_type": "code",
   "execution_count": 21,
   "id": "43de8603-7571-4eb1-ba46-861b66ef02d3",
   "metadata": {
    "collapsed": true,
    "jupyter": {
     "outputs_hidden": true
    },
    "tags": [
     "output_scroll"
    ]
   },
   "outputs": [
    {
     "data": {
      "text/plain": [
       "{\"Black Panther / T'chal\": 0.5617821782178218,\n",
       " 'Loki [asgardian]': 0.5579058699101005,\n",
       " 'Mantis / ? Brandt': 0.9233333333333333,\n",
       " 'Iceman / Robert Bobby': 0.40794417606011807,\n",
       " 'Marvel Girl / Jean Grey': 0.42312526183493926,\n",
       " 'Cyclops / Scott Summer': 0.3353361649228219,\n",
       " 'Klaw / Ulysses Klaw': 0.7071977638015374,\n",
       " 'Human Torch / Johnny S': 0.3390544041450777,\n",
       " 'Richards, Franklin B': 0.5838509316770186,\n",
       " 'Wolverine / Logan': 0.2975508509755085,\n",
       " 'Firebird / Bonita Juar': 0.914651493598862,\n",
       " 'Mr. Fantastic / Reed R': 0.3174383428190535,\n",
       " 'Medusa / Medusalith Am': 0.8318367346938775,\n",
       " 'Dr. Strange / Stephen': 0.4581560283687943,\n",
       " 'Jack Of Hearts / Jack': 0.7773279352226721,\n",
       " 'Mephisto': 0.5948051948051948,\n",
       " 'Thanos': 0.7782217782217782,\n",
       " 'Swordsman / Jacques Du': 0.9047619047619048,\n",
       " 'Collector / Taneleer T': 0.903448275862069,\n",
       " 'Lockjaw [inhuman]': 0.8737373737373737,\n",
       " 'Sub-mariner / Namor Ma': 0.41337535703732886,\n",
       " 'Pharaoh Rama-tut': 0.7176470588235294,\n",
       " 'Ant-man Ii / Scott Har': 0.7192156862745098,\n",
       " 'Lyja Lazerfist [skru': 0.8044354838709677,\n",
       " 'Gorgon [inhuman]': 0.8847780126849895,\n",
       " 'Nighthawk Ii / Kyle Ri': 0.8508064516129032,\n",
       " 'Cage, Luke / Carl Luca': 0.6345848757271285,\n",
       " 'Colossus Ii / Peter Ra': 0.3509500512003641,\n",
       " 'Hellcat / Patsy Walker': 0.6758328926493918,\n",
       " 'Karnak [inhuman]': 0.8818181818181818,\n",
       " 'Death': 0.8372093023255814,\n",
       " 'Redwing': 0.7133333333333334,\n",
       " 'Daredevil / Matt Murdo': 0.4095785440613027,\n",
       " 'Norriss, Sister Barb': 0.6797814207650273,\n",
       " 'Rage / Elvin Daryl Hal': 0.8094357076780758,\n",
       " 'Starfox / Eros': 0.6415525114155252,\n",
       " 'Demolition Man / Denni': 0.8022988505747126,\n",
       " 'Sersi / Sylvia': 0.5739235170129479,\n",
       " 'Spider-man / Peter Parker': 0.276201750306515,\n",
       " 'Vision': 0.29550890247143236,\n",
       " 'Uatu': 0.6997892201144233,\n",
       " 'Binary / Carol Danvers': 0.5499316005471956,\n",
       " 'Gyrich, Henry Peter': 0.6632996632996633,\n",
       " 'Nightcrawler / Kurt Wa': 0.39606432923783835,\n",
       " 'Angel / Warren Kenneth': 0.39180050718512255,\n",
       " 'Silver Surfer / Norrin': 0.5265631676399374,\n",
       " 'She-hulk / Jennifer Wa': 0.37250047609979053,\n",
       " 'Ghaur [deviant]': 0.8157894736842105,\n",
       " 'Dr. Doom / Victor Von': 0.5186031746031746,\n",
       " 'Storm / Ororo Munroe S': 0.3464216095795043,\n",
       " 'Scarlet Witch / Wanda': 0.33203354521660167,\n",
       " 'Toad / Mortimer Toynbe': 0.7638691322901849,\n",
       " 'Hulk / Dr. Robert Bruce Banner': 0.3633052030842086,\n",
       " 'Firestar / Angelica Jo': 0.6493284493284494,\n",
       " 'Wonder Man / Simon Wil': 0.4201863354037267,\n",
       " 'Drax / Arthur Douglas': 0.8313513513513513,\n",
       " 'Dugan, Timothy Aloyi': 0.7313829787234043,\n",
       " 'Carter, Sharon': 0.8,\n",
       " 'Black Knight V / Dane': 0.46707193515704154,\n",
       " 'Sunfire / Shiro Yoshid': 0.7474509803921568,\n",
       " 'Triton': 0.8620199146514936,\n",
       " 'Ultron': 0.8288084464555053,\n",
       " 'Jones, Richard Milho': 0.7191316146540027,\n",
       " 'Iron Man / Tony Stark': 0.2918109544944642,\n",
       " 'Nelson, Franklin Fog': 0.5448717948717948,\n",
       " 'Captain America': 0.23792718607667482,\n",
       " 'Jarvis, Edwin': 0.4098986285032797,\n",
       " 'Quasar Iii / Wendell V': 0.5221935483870968,\n",
       " 'Jameson, J. Jonah': 0.4670109007458405,\n",
       " 'Masters, Alicia Reis': 0.8064125831820932,\n",
       " 'Magneto / Magnus / Eric': 0.446944879646774,\n",
       " 'Invisible Woman / Sue': 0.33000264340470525,\n",
       " 'Professor X / Charles': 0.3572855464159812,\n",
       " 'Iron Fist / Daniel Ran': 0.6811688311688312,\n",
       " 'Black Bolt / Blackanto': 0.8974630021141649,\n",
       " 'Hawk': 0.35976331360946745,\n",
       " 'Sandman / William Bake': 0.7064935064935065,\n",
       " 'Falcon / Sam Wilson': 0.5834767641996558,\n",
       " 'Stingray / Dr. Walter': 0.817923186344239,\n",
       " 'Justice Ii / Vance Ast': 0.7448979591836735,\n",
       " 'Hercules [greek God]': 0.3804609563123495,\n",
       " 'Usagent / Captain John': 0.6610565684899485,\n",
       " 'Captain Marvel Ii / Mo': 0.5529139490847885,\n",
       " 'Crystal [inhuman]': 0.5865548827821767,\n",
       " 'Tigra / Greer Nelson': 0.6843156843156843,\n",
       " 'Spider-woman Ii / Juli': 0.6626716604244695,\n",
       " 'Machine Man / X-51': 0.9014396456256921,\n",
       " 'Mockingbird / Dr. Barb': 0.7398202009518773,\n",
       " 'Captain Marvel / Capta': 0.8468468468468469,\n",
       " 'Wasp / Janet Van Dyne': 0.33775173512344975,\n",
       " 'Fury, Col. Nicholas': 0.4903897019925939,\n",
       " 'Thor / Dr. Donald Blak': 0.284026781444285,\n",
       " 'Quicksilver / Pietro M': 0.4110341533317411,\n",
       " 'Captain Britain / Bria': 0.7315010570824524,\n",
       " 'Shadowcat / Katherine': 0.46918457648546147,\n",
       " 'Black Widow / Natasha': 0.43658559314136614,\n",
       " 'Ant-man / Dr. Henry J.': 0.38839657653563586,\n",
       " 'Moon Knight / Marc Spe': 0.7399829497016198,\n",
       " 'Jocasta': 0.9002849002849003,\n",
       " 'Moondragon / Heather D': 0.6476299257567104,\n",
       " 'Thing / Benjamin J. Gr': 0.3013031459786758,\n",
       " 'Beast / Henry &hank& P': 0.31850789096126253,\n",
       " 'Nova / Richard Rider': 0.6226917951646678,\n",
       " 'Wrecker Iii / Dirk Gar': 0.7176799440950384,\n",
       " 'Warlock Ii / Adam Warl': 0.8241441441441442,\n",
       " 'Piledriver Ii / Brian': 0.7891156462585034,\n",
       " 'Thunderball / Dr. Elio': 0.7016835016835017,\n",
       " 'Dr. Octopus / Otto Oct': 0.62531328320802,\n",
       " 'Banner, Betty Ross T': 0.8723723723723724,\n",
       " 'Avalanche / Dominic Pe': 0.7705802968960864,\n",
       " 'Attuma': 0.8804347826086957,\n",
       " 'Hela [asgardian]': 0.5284090909090909,\n",
       " 'Doc Samson / Dr. Leona': 0.8782051282051282,\n",
       " 'Guardian / James Macdo': 0.8636363636363636,\n",
       " 'Northstar / Jean-paul': 0.7911884487226953,\n",
       " 'Dr. Druid / Anthony Lu': 0.8350100603621731,\n",
       " 'Watson-parker, Mary': 0.4869933454325469,\n",
       " 'Mystique / Raven Darkh': 0.6454930429522081,\n",
       " 'Pyro / Allerdyce Johnn': 0.714975845410628,\n",
       " 'Destiny Ii / Irene Adl': 0.7916666666666666,\n",
       " 'Mister Hyde / Calvin Z': 0.6847826086956522,\n",
       " 'Ghost Rider Ii / Johnn': 0.7948717948717948,\n",
       " 'Mole Man / Harvey Rupe': 0.9142857142857143,\n",
       " 'Firelord / Pyreus Kril': 0.8571428571428571,\n",
       " 'Leader / Sam Sterns': 1.0,\n",
       " 'Le Fey, Morgan': 0.9215686274509803,\n",
       " 'Bulldozer / Henry Camp': 0.7891156462585034,\n",
       " 'Forgotten One / Gilgam': 0.8201058201058201,\n",
       " 'Balder [asgardian]': 0.678030303030303,\n",
       " 'Hogun [asgardian]': 0.5697674418604651,\n",
       " 'Hellstorm / Daimon Hel': 0.9021164021164021,\n",
       " 'Aurora / Jeanne-marie': 0.8282485875706215,\n",
       " \"O'brien, Michael\": 0.7789661319073083,\n",
       " 'Stankowicz, Fabian': 0.8633333333333333,\n",
       " 'Screaming Mimi / Melis': 0.7632183908045977,\n",
       " 'Moonstone Ii / Karla S': 0.7128205128205128,\n",
       " 'Fixer Ii / Paul Norber': 0.7112299465240641,\n",
       " 'Darkstar / Laynia Serg': 0.8891129032258065,\n",
       " 'Vanguard / Nicolai Kry': 0.9166666666666666,\n",
       " 'Gamora': 0.9216832261835184,\n",
       " 'Psylocke / Elisabeth B': 0.4909784871616933,\n",
       " 'Rogue  / ': 0.3906029867568329,\n",
       " 'Sasquatch / Walter Lan': 0.7179135209334249,\n",
       " 'Luna / Luna Maximoff [': 0.8793103448275862,\n",
       " 'Whizzer Ii / Stanley S': 0.9142857142857143,\n",
       " 'Dr. Spectrum / Joseph': 0.9142857142857143,\n",
       " 'Kingpin / Wilson Fisk': 0.4592198581560284,\n",
       " 'Clea': 0.9,\n",
       " 'Polaris / Lorna Dane': 0.5446355446355446,\n",
       " 'De La Fontaine, Cont': 0.7532467532467533,\n",
       " 'Heimdall [asgardian]': 0.8354978354978355,\n",
       " 'Red Skull / Johann Sch': 0.6102418207681366,\n",
       " 'Thompson, Eugene Fla': 0.5888501742160279,\n",
       " 'Wong': 0.886021505376344,\n",
       " 'Parker, May': 0.5991140642303433,\n",
       " 'Green Goblin / Norman': 0.8181818181818182,\n",
       " 'Night Thrasher / Duane': 0.7753846153846153,\n",
       " 'Eternity / Adam Qadmon': 0.8868852459016393,\n",
       " 'Galactus / Galan': 0.6574794866400169,\n",
       " 'Triathlon / Delroy Gar': 0.8835978835978836,\n",
       " 'Beetle / Abner Ronald': 0.6656565656565656,\n",
       " 'Lilandra Neramani [s': 0.6398809523809523,\n",
       " 'Odin [asgardian]': 0.5863636363636363,\n",
       " 'Hogan, Virginia Pepp': 0.9416666666666667,\n",
       " 'Mad Dog / Colonel Buzz': 0.7904761904761904,\n",
       " 'Kincaid, Dr. Jane Fo': 0.6587301587301587,\n",
       " 'Wizard / Bentley Wittm': 0.7610837438423645,\n",
       " 'Charcoal / Charlie Bur': 0.7857142857142857,\n",
       " 'Blob / Fred J. Dukes': 0.6287678476996298,\n",
       " 'Cloak / Tyrone Johnson': 0.5942028985507246,\n",
       " 'Thunderstrike / Eric K': 0.6219193427931292,\n",
       " 'Power Man / Erik Joste': 0.6736353077816493,\n",
       " 'Human Torch Android / ': 0.7428571428571429,\n",
       " 'Juggernaut / Cain Mark': 0.8022988505747126,\n",
       " 'Absorbing Man / Carl C': 0.7398190045248869,\n",
       " 'Volstagg': 0.5682926829268292,\n",
       " 'Shaman / Michael Twoyo': 0.7881081081081082,\n",
       " 'Snowbird / Narya / Anne': 0.8758620689655172,\n",
       " 'Dagger / Tandy Bowen': 0.6724137931034483,\n",
       " 'Phoenix Iii / Rachel S': 0.623340321453529,\n",
       " 'Mandarin': 0.7662337662337663,\n",
       " 'Fandral [asgardian]': 0.5515151515151515,\n",
       " 'Ms. Marvel Ii / Sharon': 0.8153846153846154,\n",
       " 'Pip / Prince Gofern': 0.8864406779661017,\n",
       " 'Enchantress / Amora / He': 0.624467178175618,\n",
       " 'Jameson, Col. John': 0.5206349206349207,\n",
       " 'Cooper, Dr. Valerie': 0.5842650103519669,\n",
       " 'Nova Ii / Frankie Raye': 0.874451273046532,\n",
       " 'Darkhawk / Chris Powel': 0.7788819875776397,\n",
       " 'Nomad Iii / Jack Monro': 0.6061538461538462,\n",
       " 'Robertson, Joe': 0.5561224489795918,\n",
       " 'Gargoyle Ii / Isaac Ch': 0.8243243243243243,\n",
       " 'Namorita / Nita Prenti': 0.6638616175783076,\n",
       " 'Iron Man Iv / James R.': 0.7307692307692307,\n",
       " 'Ross, Gen. Thaddeus': 0.9458128078817734,\n",
       " 'Harkness, Agatha': 0.8171565276828435,\n",
       " 'Carter, Peggy': 0.6504201680672269,\n",
       " 'Hyperion': 0.8421052631578947,\n",
       " 'Living Lightning / Mig': 0.7901504787961696,\n",
       " 'Jones, Gabe': 0.8042328042328042,\n",
       " 'Osborn, Liz Allan': 0.6415362731152204,\n",
       " 'Leeds, Betty Brant': 0.6195121951219512,\n",
       " 'Sif': 0.631578947368421,\n",
       " 'Dazzler Ii / Allison B': 0.7315233785822021,\n",
       " 'Molecule Man / Owen Re': 0.9371794871794872,\n",
       " 'Speedball / Robbie Bal': 0.7734107997265892,\n",
       " 'Lizard / Dr. Curtis Co': 0.6897163120567376,\n",
       " 'Volcana / Marsha Rosen': 0.9761904761904762,\n",
       " 'Lockheed': 0.649795918367347,\n",
       " 'Titania Ii / Mary Skee': 0.8283499446290143,\n",
       " 'Boomer / Tabitha Smith': 0.6088578088578088,\n",
       " 'Summers, Nathan Chri': 0.5468704084631207,\n",
       " 'Summers, Madelyne Ma': 0.7867867867867868,\n",
       " 'Mactaggert, Moira Ki': 0.5534465534465535,\n",
       " 'Cannonball Ii / Sam Gu': 0.4190158465387823,\n",
       " 'Tilby, Trish / Patrici': 0.8011363636363636,\n",
       " 'Skids / Sally Blevins': 0.7479838709677419,\n",
       " 'Wolfsbane / Rahne Sinc': 0.4700149925037481,\n",
       " 'Leech': 0.6587301587301587,\n",
       " 'Mirage Ii / Danielle M': 0.5486993345432547,\n",
       " 'Gambit / Remy Lebeau': 0.518732782369146,\n",
       " 'Jubilee / Jubilation L': 0.6528345996493279,\n",
       " 'Strong Guy / Guido Car': 0.652875175315568,\n",
       " 'Spiral': 0.8078817733990148,\n",
       " 'Banshee / Sean Cassidy': 0.5630861040068201,\n",
       " 'Legion Ii / David Hall': 0.9285714285714286,\n",
       " 'Havok / Alex Summers': 0.5106215578284815,\n",
       " 'Longshot': 0.8522727272727273,\n",
       " 'Forge': 0.6339421613394216,\n",
       " 'Sabretooth / Victor Cr': 0.8448717948717949,\n",
       " 'Maddicks, Arthur Art': 0.6923076923076923,\n",
       " 'Warlock Iii': 0.6019871420222093,\n",
       " 'Rictor / Julio Esteban': 0.6915820029027576,\n",
       " 'Sunspot / Roberto Daco': 0.5079795242396868,\n",
       " 'Firefist / Rusty Colli': 0.6733870967741935,\n",
       " 'Bishop  / ': 0.6435469710272168,\n",
       " 'Daytripper / Amanda Se': 0.86,\n",
       " 'Wild Child / Kyle Gibn': 0.8272727272727273,\n",
       " 'Thunderbird Ii / James': 0.6458211572180012,\n",
       " 'Sauron / Dr. Karl Lyko': 0.89,\n",
       " 'Siryn / Theresa Rourke': 0.7002902757619739,\n",
       " 'Shatterstar Ii / Gavee': 0.7921022067363531,\n",
       " 'Marrow / Sarah': 0.803030303030303,\n",
       " 'Feral / Maria Callasan': 0.8174603174603174,\n",
       " 'Callisto': 0.8603988603988604,\n",
       " 'Mr. Sinister / Nathan': 0.9080459770114943,\n",
       " 'Raza Longknife': 0.8783068783068783,\n",
       " 'Spider-woman / Jessica': 0.8528735632183908,\n",
       " 'Cypher / Doug Ramsey': 0.7182926829268292,\n",
       " \"Deathbird [shi'ar]\": 0.7857142857142857,\n",
       " 'Hudson, Heather': 0.7603131586871424,\n",
       " 'Stryfe': 0.9233511586452763,\n",
       " 'Iron Man Doppelgange': 0.996135265700483,\n",
       " 'Puck / Eugene Milton J': 0.7617656604998377,\n",
       " 'Silhouette': 0.8722689075630252,\n",
       " 'Cortez, Fabian': 0.9,\n",
       " 'Black King / Sebastian': 0.864516129032258,\n",
       " 'Magik / Illyana Rasput': 0.7378048780487805,\n",
       " 'Zabu': 0.7633333333333333,\n",
       " 'Domino Iii / Beatrice / ': 0.8297101449275363,\n",
       " 'Caliban / ': 0.7402439024390244,\n",
       " 'Apocalypse / En Sabah': 0.6772727272727272,\n",
       " 'Hunter, Stevie': 0.8364153627311522,\n",
       " 'Corsair': 0.8168067226890756,\n",
       " \"Ch'od\": 0.8666666666666667,\n",
       " \"Mam'selle Hepzibah\": 0.8689655172413793,\n",
       " 'Zero': 0.9268817204301075,\n",
       " 'X-man / Nathan Grey': 0.8666666666666667,\n",
       " \"Karma / Xi'an Coy Manh\": 0.8152709359605911,\n",
       " 'Mr. Fantastic Doppel': 0.9804421768707483,\n",
       " 'Beyonder': 0.765079365079365,\n",
       " 'Multiple Man / James A': 0.7045614035087719,\n",
       " 'Colossus Ii Doppelga': 1.0,\n",
       " 'Scanner Ii': 0.8128654970760234,\n",
       " 'Ka-zar / Kevin Plunder': 0.7916666666666666,\n",
       " 'White Queen / Emma Fro': 0.658974358974359,\n",
       " 'Magma / Amara Aquilla / ': 0.8809523809523809,\n",
       " 'Thanos Doppelganger': 0.9224043715846995,\n",
       " 'Magus': 0.8798904538341158,\n",
       " 'Knight, Misty': 0.7378917378917379,\n",
       " 'Wing, Colleen': 0.803030303030303,\n",
       " 'Puppet Master / Philli': 0.91,\n",
       " 'Maximus [inhuman]': 0.9736842105263158,\n",
       " 'Punisher Ii / Frank Ca': 0.47368421052631576,\n",
       " 'Zeus': 0.7862318840579711,\n",
       " 'Box Iv / Madison Jeffr': 0.8210526315789474,\n",
       " 'Thena': 0.6883116883116883,\n",
       " 'Black Cat / Felicia Ha': 0.6650246305418719,\n",
       " 'Gee / Alex Power': 0.5324675324675324,\n",
       " 'Spider-man Clone / Ben': 0.6491228070175439,\n",
       " 'Ulik': 0.7485380116959064,\n",
       " 'Citizen V Ii / Helmut': 0.6129032258064516,\n",
       " 'High Evolutionary / He': 0.5353658536585366,\n",
       " 'Hobgoblin V / Jason Ph': 0.6553846153846153,\n",
       " 'Ghost Rider Iii / Dan': 0.6491228070175439,\n",
       " 'Cushing, Kate': 0.8853754940711462,\n",
       " 'Katzenberg, Nick': 0.9157894736842105,\n",
       " 'Vizier': 0.8221343873517787,\n",
       " 'Tombstone / Lonnie Tho': 0.7333333333333333,\n",
       " 'Mercado, Joy': 0.9095238095238095,\n",
       " 'Hammerhead': 0.8070175438596491,\n",
       " 'Arranger / ': 0.8947368421052632,\n",
       " 'Osborn, Harry': 0.7698412698412699,\n",
       " 'Cobra / Klaus Vorhees': 0.5333333333333333,\n",
       " 'Leeds, Ned': 0.8260869565217391,\n",
       " 'Watson, Anna': 0.7661538461538462,\n",
       " 'Urich, Ben': 0.6471471471471472,\n",
       " 'Robertson, Randy': 0.8614718614718615,\n",
       " 'Page, Karen': 0.8083333333333333,\n",
       " 'Grant, Gloria Glory': 0.7804232804232805,\n",
       " 'Lubenski, Nate': 0.9473684210526315,\n",
       " 'Ikaris / Ike Harris [e': 0.8382352941176471,\n",
       " 'Rosenthal, Bernie': 0.6333333333333333,\n",
       " 'Gladiator Ii': 0.8458498023715415,\n",
       " 'Beta Ray Bill': 0.6811594202898551,\n",
       " 'Bridge, George Washi': 0.39826839826839827,\n",
       " 'Diamond Lil / Lillian': 0.8901098901098901,\n",
       " 'Asp Ii / Cleo': 0.9642857142857143,\n",
       " 'Black Mamba / Tanya Se': 0.9642857142857143,\n",
       " 'Meggan': 0.8904761904761904,\n",
       " 'Austin, Susan': 0.8970588235294118,\n",
       " 'Diamondback Ii / Rache': 0.631578947368421,\n",
       " 'Makkari / Mike Khary / I': 0.6,\n",
       " 'Hodge, Cameron': 0.8575498575498576,\n",
       " 'Skin / Angelo Espinosa': 0.7912087912087912,\n",
       " 'Husk / Paige Guthrie': 0.775,\n",
       " 'Deadpool / Jack / Wade W': 0.782051282051282}"
      ]
     },
     "execution_count": 21,
     "metadata": {},
     "output_type": "execute_result"
    }
   ],
   "source": [
    "# Get clustering coefficients\n",
    "# These can be added to a node dataframe as in the previous chapter\n",
    "nx.clustering(M)"
   ]
  },
  {
   "cell_type": "code",
   "execution_count": 15,
   "id": "ec047ec5-c364-4663-8b07-22ee0a31e290",
   "metadata": {},
   "outputs": [
    {
     "data": {
      "text/plain": [
       "0.7047201786696375"
      ]
     },
     "execution_count": 15,
     "metadata": {},
     "output_type": "execute_result"
    }
   ],
   "source": [
    "# Find the average clustering coefficient\n",
    "nx.average_clustering(M)"
   ]
  },
  {
   "cell_type": "markdown",
   "id": "c0315639-400b-4908-93cb-18ba9c9db0c1",
   "metadata": {},
   "source": [
    "## Bridges"
   ]
  },
  {
   "cell_type": "code",
   "execution_count": 16,
   "id": "3ed420f3-54b3-4d28-bba7-7719d50b8ddc",
   "metadata": {},
   "outputs": [
    {
     "data": {
      "text/plain": [
       "[]"
      ]
     },
     "execution_count": 16,
     "metadata": {},
     "output_type": "execute_result"
    }
   ],
   "source": [
    "# List a network's bridges\n",
    "list(nx.bridges(M))"
   ]
  },
  {
   "cell_type": "code",
   "execution_count": 17,
   "id": "368976c7-346e-426e-abdf-8e0ae5613d3d",
   "metadata": {},
   "outputs": [
    {
     "data": {
      "text/plain": [
       "False"
      ]
     },
     "execution_count": 17,
     "metadata": {},
     "output_type": "execute_result"
    }
   ],
   "source": [
    "# Test if a network has any bridges\n",
    "nx.has_bridges(M)"
   ]
  },
  {
   "cell_type": "code",
   "execution_count": 18,
   "id": "2d03fc40-1df7-42c8-8b40-cacfa73cb887",
   "metadata": {},
   "outputs": [
    {
     "data": {
      "text/plain": [
       "[('Death', 'Deadpool / Jack / Wade W', 3)]"
      ]
     },
     "execution_count": 18,
     "metadata": {},
     "output_type": "execute_result"
    }
   ],
   "source": [
    "# List a network's local bridges\n",
    "list(nx.local_bridges(M))"
   ]
  },
  {
   "cell_type": "markdown",
   "id": "6a896a88-f704-4443-8108-9e947e258091",
   "metadata": {},
   "source": [
    "## Neighbors"
   ]
  },
  {
   "cell_type": "code",
   "execution_count": 22,
   "id": "80925e77-28c1-4be0-9146-8a1df313fd82",
   "metadata": {
    "collapsed": true,
    "jupyter": {
     "outputs_hidden": true
    },
    "tags": [
     "output_scroll"
    ]
   },
   "outputs": [
    {
     "data": {
      "text/plain": [
       "[\"Black Panther / T'chal\",\n",
       " 'Iron Man / Tony Stark',\n",
       " 'Sub-mariner / Namor Ma',\n",
       " 'Nova / Richard Rider',\n",
       " 'Hulk / Dr. Robert Bruce Banner',\n",
       " 'Spider-man / Peter Parker',\n",
       " 'Wasp / Janet Van Dyne',\n",
       " 'Galactus / Galan',\n",
       " 'Silver Surfer / Norrin',\n",
       " 'Hawk',\n",
       " 'Scarlet Witch / Wanda',\n",
       " 'Uatu',\n",
       " 'Captain America',\n",
       " 'Thunderstrike / Eric K',\n",
       " 'Wonder Man / Simon Wil',\n",
       " 'Wolverine / Logan',\n",
       " 'She-hulk / Jennifer Wa',\n",
       " 'Vision',\n",
       " 'Storm / Ororo Munroe S',\n",
       " 'Eternity / Adam Qadmon',\n",
       " 'Quasar Iii / Wendell V',\n",
       " 'Black Widow / Natasha',\n",
       " 'Firelord / Pyreus Kril',\n",
       " 'Thor / Dr. Donald Blak',\n",
       " 'Richards, Franklin B',\n",
       " 'Deadpool / Jack / Wade W',\n",
       " 'Mephisto',\n",
       " 'Dr. Doom / Victor Von',\n",
       " 'Thing / Benjamin J. Gr',\n",
       " 'Gamora',\n",
       " 'Drax / Arthur Douglas',\n",
       " 'Nova Ii / Frankie Raye',\n",
       " 'Ant-man / Dr. Henry J.',\n",
       " 'Moondragon / Heather D',\n",
       " 'Pip / Prince Gofern',\n",
       " 'Thanos',\n",
       " 'Collector / Taneleer T',\n",
       " 'Captain Marvel / Capta',\n",
       " 'Warlock Ii / Adam Warl',\n",
       " 'Dr. Strange / Stephen',\n",
       " 'Starfox / Eros',\n",
       " 'Invisible Woman / Sue',\n",
       " 'Cyclops / Scott Summer']"
      ]
     },
     "execution_count": 22,
     "metadata": {},
     "output_type": "execute_result"
    }
   ],
   "source": [
    "# Find a node's neighbors\n",
    "list(nx.neighbors(M, 'Death'))"
   ]
  },
  {
   "cell_type": "code",
   "execution_count": 23,
   "id": "2bbd2c56-cc1b-4cc4-9cb1-e7133468c875",
   "metadata": {
    "collapsed": true,
    "jupyter": {
     "outputs_hidden": true
    },
    "tags": [
     "output_scroll"
    ]
   },
   "outputs": [
    {
     "data": {
      "text/plain": [
       "[\"Black Panther / T'chal\",\n",
       " 'Iron Man / Tony Stark',\n",
       " 'Sub-mariner / Namor Ma',\n",
       " 'Nova / Richard Rider',\n",
       " 'Hulk / Dr. Robert Bruce Banner',\n",
       " 'Spider-man / Peter Parker',\n",
       " 'Galactus / Galan',\n",
       " 'Silver Surfer / Norrin',\n",
       " 'Hawk',\n",
       " 'Scarlet Witch / Wanda',\n",
       " 'Uatu',\n",
       " 'Captain America',\n",
       " 'Thunderstrike / Eric K',\n",
       " 'Wonder Man / Simon Wil',\n",
       " 'Wolverine / Logan',\n",
       " 'She-hulk / Jennifer Wa',\n",
       " 'Vision',\n",
       " 'Storm / Ororo Munroe S',\n",
       " 'Eternity / Adam Qadmon',\n",
       " 'Quasar Iii / Wendell V',\n",
       " 'Black Widow / Natasha',\n",
       " 'Firelord / Pyreus Kril',\n",
       " 'Thor / Dr. Donald Blak',\n",
       " 'Mephisto',\n",
       " 'Dr. Doom / Victor Von',\n",
       " 'Thing / Benjamin J. Gr',\n",
       " 'Gamora',\n",
       " 'Drax / Arthur Douglas',\n",
       " 'Nova Ii / Frankie Raye',\n",
       " 'Ant-man / Dr. Henry J.',\n",
       " 'Moondragon / Heather D',\n",
       " 'Pip / Prince Gofern',\n",
       " 'Captain Marvel / Capta',\n",
       " 'Warlock Ii / Adam Warl',\n",
       " 'Dr. Strange / Stephen',\n",
       " 'Starfox / Eros',\n",
       " 'Invisible Woman / Sue',\n",
       " 'Cyclops / Scott Summer']"
      ]
     },
     "execution_count": 23,
     "metadata": {},
     "output_type": "execute_result"
    }
   ],
   "source": [
    "# Find common neighbors of a node pair\n",
    "list(nx.common_neighbors(M, 'Death', 'Thanos'))"
   ]
  }
 ],
 "metadata": {
  "kernelspec": {
   "display_name": "Python 3 (ipykernel)",
   "language": "python",
   "name": "python3"
  },
  "language_info": {
   "codemirror_mode": {
    "name": "ipython",
    "version": 3
   },
   "file_extension": ".py",
   "mimetype": "text/x-python",
   "name": "python",
   "nbconvert_exporter": "python",
   "pygments_lexer": "ipython3",
   "version": "3.9.6"
  }
 },
 "nbformat": 4,
 "nbformat_minor": 5
}
