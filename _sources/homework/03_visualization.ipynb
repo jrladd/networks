{
 "cells": [
  {
   "cell_type": "markdown",
   "id": "b44941d3-a253-4697-af76-8799ffb40724",
   "metadata": {},
   "source": [
    "# 03: Game of Thrones Visualization\n",
    "\n",
    "This week we'll continue to practice with the two types of network visualization: static and dynamic. You'll continue to work with the *Game of Thrones* dataset that we've been using to practice.\n",
    "\n",
    "In a short Jupyter notebook report, answer the following questions about this network. Don't simply calculate the answers: make sure you're fully explaining (in writing) the metrics and visualizations that you generate. Consider the [Criteria for Good Reports](https://jrladd.com/CIS397-networks/criteria/) as a guide. You can create markdown cells with section headers to separate the different sections of the report. Rather than number the report as if you're answering distinct questions, use the questions as a guide to do some data storytelling, i.e. explain this network's data in an organized way.\n",
    "\n",
    "1. Finish polishing your Gephi visualization of the GoT network. This is a static visualization, so think about what things can be shown visually with this kind of graph. Your visualization **must** include: a use of node color to show a calculated metric, a use of node size to do the same (but it can be a different metric), some visual expression of edge weights, readable node labels, a clear intentional layout, and written captions and key (these should probably be added to the image after you export from Gephi).\n",
    "2. Create a dynamic visualization of the GoT network with `nx_altair`. This should be visually distinct from your Gephi visualization and use different attributes. Think about how this kind of visualization might allow you to show something different about the network. Your visualization **must** include: tooltips and scrollable zoom; an additional plot that shows another feature of your network as a bar plot, scatterplot, or histogram; use of node size and color; use of one `draw_networkx` parameter or attribute that is *not* mentioned in our textbook; and a clear intentional layout.\n",
    "3. Both of your visualizations should be included in this Jupyter notebook. (We will discuss how to add an image to a notebook in class.) The notebook should include explanations of both of the visualizations and the choices you made, and you should turn in this notebook and your static visualization image.\n",
    "\n",
    "**Your visualizations should not be identical to anyone else's! Though you may get advice from others, you should work to make your visualization unique.**\n",
    "\n",
    "n.b. *To answer these questions, you'll need to use a mixture of the NetworkX skills we've been working on, as well as combine NetworkX code with pandas and altair.*\n",
    "\n",
    "**When you're finished, remove these instructions from the top of the file, leaving only your own writing and code. Export the notebook as an HTML file, check to make sure everything is formatted correctly, and submit your HTML file to Sakai.**"
   ]
  },
  {
   "cell_type": "code",
   "execution_count": null,
   "id": "3208f92c-e548-43c8-a106-fe76814f0e42",
   "metadata": {},
   "outputs": [],
   "source": []
  }
 ],
 "metadata": {
  "kernelspec": {
   "display_name": "Python 3 (ipykernel)",
   "language": "python",
   "name": "python3"
  },
  "language_info": {
   "codemirror_mode": {
    "name": "ipython",
    "version": 3
   },
   "file_extension": ".py",
   "mimetype": "text/x-python",
   "name": "python",
   "nbconvert_exporter": "python",
   "pygments_lexer": "ipython3",
   "version": "3.9.6"
  }
 },
 "nbformat": 4,
 "nbformat_minor": 5
}
