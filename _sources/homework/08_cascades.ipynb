{
 "cells": [
  {
   "cell_type": "markdown",
   "id": "a82ef5b0-1196-4ff2-9b16-8b839a41ab5d",
   "metadata": {},
   "source": [
    "# Cascades and Diffusion\n",
    "\n",
    "This week we'll explore how people in a network adopt new behaviors, using a model to describe diffusion and cascades.\n",
    "\n",
    "In a short Jupyter notebook report, complete the following tasks. Don't simply calculate the answers: make sure you're fully explaining (in writing) the metrics and visualizations that you generate. Consider the [Criteria for Good Reports](https://jrladd.com/CIS397-networks/criteria/) as a guide. You can create markdown cells with section headers to separate the different sections of the report. Rather than number the report as if you're answering distinct questions, use the questions as a guide to do some data storytelling, i.e. explain this network's data in an organized way.\n",
    "\n",
    "1. Complete the [in-class assignment](https://jrladd.com/CIS397-networks/homework/cascades/) from last time, putting all your code and explanations into this network. How did the Florentine families network respond to the new behavior introduced by the Medici? Was there a complete cascade? Why or why not?\n",
    "2. In the chapter and in class, we learned that dense clusters in the network are the only thing that can stop a cascade. Specifically we learned that the clusters must be more dense than $1-q$ (or `1 - the threshold p`). Can you find such a cluster in the Florentine families graph? You may have to combine some approaches we've used in previous weeks.\n",
    "3. Finally, we learned how to extend our model to include a *bilingual option*, or a scenario in which a person might adopt *both* behaviors instead of simply choosing one or the other. Can you modify your cascade function to allow for a third option in which a family adopts both behaviors? In this scenario, set the cost of adopting both behaviors to 1, so $c=1$. Once you've modified your function, rerun your visualization and your Pandas dataframe to include the bilingual option. (Hint: you may not be able to use numbers to indicate the behaviors anymore.)\n",
    "\n",
    "\n",
    "**When you're finished, remove these instructions from the top of the file, leaving only your own writing and code. Export the notebook as an HTML file, check to make sure everything is formatted correctly, and submit your HTML file to Sakai.**"
   ]
  },
  {
   "cell_type": "code",
   "execution_count": null,
   "id": "225dbf9d-4fa1-40aa-bc54-48824a51c4e6",
   "metadata": {},
   "outputs": [],
   "source": []
  }
 ],
 "metadata": {
  "kernelspec": {
   "display_name": "Python 3 (ipykernel)",
   "language": "python",
   "name": "python3"
  },
  "language_info": {
   "codemirror_mode": {
    "name": "ipython",
    "version": 3
   },
   "file_extension": ".py",
   "mimetype": "text/x-python",
   "name": "python",
   "nbconvert_exporter": "python",
   "pygments_lexer": "ipython3",
   "version": "3.9.6"
  }
 },
 "nbformat": 4,
 "nbformat_minor": 5
}
