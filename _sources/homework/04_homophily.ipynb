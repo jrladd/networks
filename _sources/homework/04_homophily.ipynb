{
 "cells": [
  {
   "cell_type": "markdown",
   "id": "e803b409-2af3-48c9-829b-16d00efe0444",
   "metadata": {},
   "source": [
    "# Homophily Homework"
   ]
  },
  {
   "cell_type": "code",
   "execution_count": null,
   "id": "6d1d2afd-6619-4217-92c9-47e6bbed0182",
   "metadata": {},
   "outputs": [],
   "source": []
  }
 ],
 "metadata": {
  "kernelspec": {
   "display_name": "Python 3 (ipykernel)",
   "language": "python",
   "name": "python3"
  },
  "language_info": {
   "codemirror_mode": {
    "name": "ipython",
    "version": 3
   },
   "file_extension": ".py",
   "mimetype": "text/x-python",
   "name": "python",
   "nbconvert_exporter": "python",
   "pygments_lexer": "ipython3",
   "version": "3.9.6"
  }
 },
 "nbformat": 4,
 "nbformat_minor": 5
}
