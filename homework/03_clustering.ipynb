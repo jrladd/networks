{
 "cells": [
  {
   "cell_type": "markdown",
   "id": "b44941d3-a253-4697-af76-8799ffb40724",
   "metadata": {},
   "source": [
    "# High School Interactions\n",
    "\n",
    "This week we'll explore the sociological questions of triadic closure and weak ties in a network of anonymized high school interaction data. Go to [Austin R. Benson's network data site](https://www.cs.cornell.edu/~arb/data/contact-high-school/) and download the \"contact-high-school\" network available there. *Make sure you download the projected graph, not the timestamped simplices.* This will be a zip file that includes a `.txt` edgelist file and a text file with some metadata. Make sure you read over Benson's page to understand this data before you begin.\n",
    "\n",
    "In a short Jupyter notebook report, answer the following questions about this network. Don't simply calculate the answers: make sure you're fully explaining (in writing) the metrics and visualizations that you generate. Consider the [Criteria for Good Reports](https://jrladd.com/CIS397-networks/criteria/) as a guide. You can create markdown cells with section headers to separate the different sections of the report. Rather than number the report as if you're answering distinct questions, use the questions as a guide to do some data storytelling, i.e. explain this network's data in an organized way.\n",
    "\n",
    "1. What is the total number of triangles in this network? Does this number seem large or small relative to the overall size of the network?\n",
    "2. What's the average clustering coefficient for the network? Graph the distribution of clustering coefficients. What do these measures tell you about the network's overall structure?\n",
    "3. How many bridges are there in the network? How many local bridges are there? What is the maximum span of any local bridge in the network, and what does that tell you about this social community?\n",
    "4. There is no function for neighborhood overlap in NetworkX, but the library provides multiple different functions for neighbors. Write a function to calculate neighborhood overlap for every edge in the network. Then, recreate a version of the graph in Figure 3.7 of your book by making a regression plot of weight and neigborhood overlap in your network. Does there appear to be a correlation between these two metrics? What does this tell you about the network?\n",
    "\n",
    "n.b. *To answer these questions, you'll need to use a mixture of the NetworkX skills we've been working on, as well as combine NetworkX code with pandas and seaborn.*\n",
    "\n",
    "**When you're finished, remove these instructions from the top of the file, leaving only your own writing and code. Export the notebook as an HTML file, check to make sure everything is formatted correctly, and submit your HTML file to Sakai.**"
   ]
  },
  {
   "cell_type": "code",
   "execution_count": null,
   "id": "3208f92c-e548-43c8-a106-fe76814f0e42",
   "metadata": {},
   "outputs": [],
   "source": []
  }
 ],
 "metadata": {
  "kernelspec": {
   "display_name": "Python 3 (ipykernel)",
   "language": "python",
   "name": "python3"
  },
  "language_info": {
   "codemirror_mode": {
    "name": "ipython",
    "version": 3
   },
   "file_extension": ".py",
   "mimetype": "text/x-python",
   "name": "python",
   "nbconvert_exporter": "python",
   "pygments_lexer": "ipython3",
   "version": "3.9.6"
  }
 },
 "nbformat": 4,
 "nbformat_minor": 5
}
