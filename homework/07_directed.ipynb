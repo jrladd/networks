{
 "cells": [
  {
   "cell_type": "markdown",
   "id": "a82ef5b0-1196-4ff2-9b16-8b839a41ab5d",
   "metadata": {},
   "source": [
    "# 07: The Shape of the Web\n",
    "\n",
    "***n.b. BECAUSE THIS ASSIGNMENT IS DUE AFTER SPRING BREAK, YOU CANNOT RECEIVE AN EXTENSION.**\n",
    "\n",
    "This week we'll explore a large directed information network: a snapshot of the Web. Download the [Stanford Web Graph](https://snap.stanford.edu/data/web-Stanford.html) from the Stanford Large Network Dataset Collection, which is also available on [the Datasets page in the textbook](https://jrladd.com/networks/datasets.html). In this dataset, nodes represent pages and edges represent hyperlinks between those pages.\n",
    "\n",
    "Keep in mind that this network has a huge number of nodes and edges; it's far larger than any network we've used so far. Some of your code might take a little longer to run than usual, but if it's taking more than 5 minutes or so there may be something else wrong. Also, ***you do not need to unzip the `txt.gz` file***. You can read the file directly without unzipping it, and that will save space on your computer.\n",
    "\n",
    "In a short Jupyter notebook report, answer the following questions about this network. Don't simply calculate the answers: make sure you're fully explaining (in writing) the metrics and visualizations that you generate. Consider the [Criteria for Good Reports](https://jrladd.com/CIS397-networks/criteria/) as a guide. You can create markdown cells with section headers to separate the different sections of the report. Rather than number the report as if you're answering distinct questions, use the questions as a guide to do some data storytelling, i.e. explain this network's data in an organized way.\n",
    "\n",
    "1. What is the average in-degree and out-degree of all nodes in this network? What do you notice when you calculate this, and how does that match with what you know about these measures? Also create two histograms showing the distribution of in-degree and out-degree. Make sure each of these histograms has a good bin size, a title, and a label for the x-axis. Describe each visualization completely—what do these distributions tell you about this network?\n",
    "\n",
    "> *n.b. You may need to [add axis limits](https://altair-viz.github.io/user_guide/customization.html#adjusting-axis-limits) to make these plots functional.*\n",
    "\n",
    "2. Is this network strongly connected? Is it weakly connected? What does that tell you about the graph? How many strongly connected components does the network have, and what is the size of the largest strongly connected component? What have you learned about the network from these measures?\n",
    "3. Does this network have a \"bow tie\" structure like the one mentioned in Chapter 13 of your book? How would you find this out? You'll need to calculate a few different measures here and report your findings. (Hint: focus on just the three largest strongly connected components.)\n",
    "\n",
    "\n",
    "**When you're finished, remove these instructions from the top of the file, leaving only your own writing and code. Export the notebook as an HTML file, check to make sure everything is formatted correctly, and submit your HTML file to Sakai.**"
   ]
  },
  {
   "cell_type": "code",
   "execution_count": null,
   "id": "225dbf9d-4fa1-40aa-bc54-48824a51c4e6",
   "metadata": {},
   "outputs": [],
   "source": []
  }
 ],
 "metadata": {
  "kernelspec": {
   "display_name": "Python 3 (ipykernel)",
   "language": "python",
   "name": "python3"
  },
  "language_info": {
   "codemirror_mode": {
    "name": "ipython",
    "version": 3
   },
   "file_extension": ".py",
   "mimetype": "text/x-python",
   "name": "python",
   "nbconvert_exporter": "python",
   "pygments_lexer": "ipython3",
   "version": "3.9.6"
  }
 },
 "nbformat": 4,
 "nbformat_minor": 5
}
