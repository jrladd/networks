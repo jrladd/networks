{
 "cells": [
  {
   "cell_type": "markdown",
   "id": "071d303e-1cf9-4070-aa5a-626cfeb355be",
   "metadata": {},
   "source": [
    "# 10: Epidemics in Social Networks\n",
    "\n",
    "This week we'll explore the spread of epidemics in a contact network. Use the High School contact network available on [Austin R. Benson's network data site](https://www.cs.cornell.edu/~arb/data/contact-high-school/). You should already have it downloaded from last time, and the data file is also available in the Sakai assignments. You may need to refer back to the Clustering homework for a reminder on how to input this data.\n",
    "\n",
    "Epidemics are a sensitive topic, and modeling epidemics on data collected from real people requires care. Be sure to describe the spread of the epidemic *theoretically* and with respect for the people on which this data set is based. If you're at all uncomfortable working with this example, you're welcome to work with me to choose a different data set for this assignment.\n",
    "\n",
    "In a short Jupyter notebook report, answer the following questions about this network. Don't simply calculate the answers: make sure you're fully explaining (in writing) the metrics and visualizations that you generate. Consider the [Criteria for Good Reports](https://jrladd.com/CIS397-networks/criteria/) as a guide. You can create markdown cells with section headers to separate the different sections of the report. Rather than number the report as if you're answering distinct questions, use the questions as a guide to do some data storytelling, i.e. explain this network's data in an organized way.\n",
    "\n",
    "1. You'll work with a hypothetical epidemic in which the probability of infection is 5/8: $p=0.625$. Based on this network's average number of contacts per person, what is the value of $k$, and what is the value of $R_{0}$? (This network is undirected, so treat every edge as potentially carrying infection in both directions.) This not a branching process, but what do these values tell you about the network?\n",
    "2. Using the steps on page 651 of Ch. 21 of our book, create a simulation of an SIR network similar to the simulation you created last week for information cascades. You'll create a function to generate one time-step of the network and create both a series of visualization and a pandas DataFrame that shows the progress of infection and recovery. Will this infection stop itself over time or will it continue?\n",
    "3. Create a static percolation of the SIR epidemic and visualize the open and blocked edges. (You might consider using edge weight or edge style to show percolation.) Does this confirm what you saw in the temporal model above? What did you learn from this representation?\n",
    "4. Extend your initial epidemic simulation for a SIRS epidemic, letting the time in the removed state, $t_{R}$ be 2 cycles. How does the affect the speed and extent of the epidemic?\n",
    "\n",
    "n.b. *To answer these questions, you'll need to use a mixture of the NetworkX skills we've been working on, as well as combine NetworkX code with pandas and altair.*\n",
    "\n",
    "**When you're finished, remove these instructions from the top of the file, leaving only your own writing and code. Export the notebook as an HTML file, check to make sure everything is formatted correctly, and submit your HTML file to Sakai.**\n",
    "\n",
    "## Random Choice\n",
    "\n",
    "In order to accomplish the above, you'll need a way of selecting from one of two options based on a predetermined probability. Python has a built-in library for this, `random`:\n",
    "\n",
    "```python\n",
    "from random import choices\n",
    "\n",
    "choices(['option1','option2'],weights=[.25,.75],k=1)[0]\n",
    "```\n",
    "\n",
    "The code above creates a scenario in which Option 1 has a 1 in 4 chance of occuring."
   ]
  },
  {
   "cell_type": "code",
   "execution_count": null,
   "id": "bdb730f7-0b8e-4196-90f9-d4adb776deb5",
   "metadata": {},
   "outputs": [],
   "source": []
  }
 ],
 "metadata": {
  "kernelspec": {
   "display_name": "Python 3 (ipykernel)",
   "language": "python",
   "name": "python3"
  },
  "language_info": {
   "codemirror_mode": {
    "name": "ipython",
    "version": 3
   },
   "file_extension": ".py",
   "mimetype": "text/x-python",
   "name": "python",
   "nbconvert_exporter": "python",
   "pygments_lexer": "ipython3",
   "version": "3.9.6"
  }
 },
 "nbformat": 4,
 "nbformat_minor": 5
}
