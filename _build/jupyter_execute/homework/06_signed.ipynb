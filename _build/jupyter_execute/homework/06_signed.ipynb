{
 "cells": [
  {
   "cell_type": "markdown",
   "id": "39051fba-33f8-46c5-a0a7-ee949b8aa5fe",
   "metadata": {},
   "source": [
    "# 06: International Relations\n",
    "\n",
    "This week we'll explore community structure and structural balance in a signed network of international relations. Go to [the Datasets page in the textbook](https://jrladd.com/networks/resources/datasets.html) and download the \"CoW\" network. \"CoW\" stands for [Correlates of War](https://correlatesofwar.org/), and this dataset encodes countries' alliances or enmities as a positive or negative relation.\n",
    "\n",
    "The CoW network is a Pajek dataset, so you'll need to use NetworkX's `read_pajek()` function. This function automatically creates MultiGraphs, which we haven't learned about yet. Before you begin, convert the multigraph to a standard Graph object with the following code:\n",
    "\n",
    "<details>\n",
    "  <summary>Show code</summary>\n",
    "    \n",
    "  ```python\n",
    "MG = nx.read_pajek('yourfilename.net')\n",
    "G = nx.Graph()\n",
    "\n",
    "for n, nbrs in MG.adjacency():\n",
    "    for nbr, edict in nbrs.items():\n",
    "        sumvalue = sum([d['weight'] for d in edict.values()])\n",
    "        G.add_edge(n, nbr, weight = sumvalue)\n",
    "  ```\n",
    "    \n",
    "</details>\n",
    "\n",
    "\n",
    "In a short Jupyter notebook report, answer the following questions about this network. Don't simply calculate the answers: make sure you're fully explaining (in writing) the metrics and visualizations that you generate. Consider the [Criteria for Good Reports](https://jrladd.com/networks/course-info/criteria.html) as a guide. You can create markdown cells with section headers to separate the different sections of the report. Rather than number the report as if you're answering distinct questions, use the questions as a guide to do some data storytelling, i.e. explain this network's data in an organized way.\n",
    "\n",
    "1. Is this network structurally balanced or not? Determine the number of cycles (or loops) in the network that have an even number of negative edges, and compare it to the number of cycles that have an odd number of negative edges. What does that tell you about the network?\n",
    "\n",
    "> n.b. Solving this will require some creative coding! Remember what you've learned about NetwortX Graph objects and about looping and iterating in Python. Refer back to the guides in the [textbook](https://jrladd.com/networks/intro.html) for ideas. You might also find some ideas in the sections on Working with Graph Objects and Community detection.\n",
    "\n",
    "2. Find communities in this network using both the Girvan-Newman and Louvain methods. Which method seems to work better? There is a problem with running community detection on this graph! Interpret your results and try to define the problem—have these methods done a good job of finding communities? Once you spot the problem, can you figure out what you think is causing it? Include two visualizations of the network in Altair, with colors for each community detection method. (As an alternative, you could make one visualization with a switch that changes the colors between Louvain and Girvan-Newman.)\n",
    "3. Is the number of cycles with an odd number of negative edges *statistically significant*? Create a permutation test to randomly change the configuration of positive and negative edges in this network (but not the *total number* of positive and negative edges). Create a histogram of the random results showing your observed value, and calculate the p-value. This will be very similar to what you did for homophily last week.\n",
    "\n",
    "\n",
    "**When you're finished, remove these instructions from the top of the file, leaving only your own writing and code. Export the notebook as an HTML file, check to make sure everything is formatted correctly, and submit your HTML file to Sakai.**"
   ]
  },
  {
   "cell_type": "code",
   "execution_count": null,
   "id": "cd709b51-47ac-45b0-aba4-4190f38c8d62",
   "metadata": {},
   "outputs": [],
   "source": []
  }
 ],
 "metadata": {
  "kernelspec": {
   "display_name": "Python 3 (ipykernel)",
   "language": "python",
   "name": "python3"
  },
  "language_info": {
   "codemirror_mode": {
    "name": "ipython",
    "version": 3
   },
   "file_extension": ".py",
   "mimetype": "text/x-python",
   "name": "python",
   "nbconvert_exporter": "python",
   "pygments_lexer": "ipython3",
   "version": "3.9.6"
  }
 },
 "nbformat": 4,
 "nbformat_minor": 5
}