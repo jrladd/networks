{
 "cells": [
  {
   "cell_type": "markdown",
   "id": "2e775d8a-ec62-42a0-81b1-4eb4f17dfcf9",
   "metadata": {},
   "source": [
    "# Community Detection\n",
    "\n",
    "We can use some of the metrics and principles we already know to split, or *partition*, a network into distinct communities. This process is called **community detection**.\n",
    "\n",
    "```{seealso}\n",
    "There are *many* different methods of community detection, and you will find a good selection in the [NetworkX documentation](https://networkx.org/documentation/stable/reference/algorithms/community.html#module-networkx.algorithms.community).\n",
    "```\n",
    "\n",
    "## Girvan-Newman Method\n",
    "\n",
    "The Girvan-Newman method, described in Chapter 3 of *Networks, Crowds, and Markets*, creates partitions of nodes by successively deleting the edges with the highest edge betweenness.\n",
    "\n",
    "As an example, we'll use the Karate Club graph, which is built-in to NetworkX."
   ]
  },
  {
   "cell_type": "code",
   "execution_count": 1,
   "id": "d16d34a0-8fa0-4ea0-b26a-1222bd907af6",
   "metadata": {},
   "outputs": [],
   "source": [
    "import networkx as nx\n",
    "import pandas as pd\n",
    "\n",
    "G = nx.karate_club_graph()"
   ]
  },
  {
   "cell_type": "markdown",
   "id": "16ed609f-8f39-48fc-a7fe-a7ae29c2c0f2",
   "metadata": {},
   "source": [
    "You must import `community` modules separate from the rest of NetworkX."
   ]
  },
  {
   "cell_type": "code",
   "execution_count": 2,
   "id": "33c56e6b-bbaf-44d5-bc8e-643ea1bb0a3a",
   "metadata": {},
   "outputs": [],
   "source": [
    "from networkx.algorithms.community import girvan_newman\n",
    "import itertools # You need this to work with generators"
   ]
  },
  {
   "cell_type": "code",
   "execution_count": 3,
   "id": "226b3e01-bf41-4821-85a6-1d9f58759e92",
   "metadata": {},
   "outputs": [
    {
     "name": "stdout",
     "output_type": "stream",
     "text": [
      "({0, 1, 3, 4, 5, 6, 7, 10, 11, 12, 13, 16, 17, 19, 21}, {2, 8, 9, 14, 15, 18, 20, 22, 23, 24, 25, 26, 27, 28, 29, 30, 31, 32, 33})\n",
      "({0, 1, 3, 4, 5, 6, 7, 10, 11, 12, 13, 16, 17, 19, 21}, {32, 33, 2, 8, 14, 15, 18, 20, 22, 23, 24, 25, 26, 27, 28, 29, 30, 31}, {9})\n",
      "({0, 1, 3, 7, 11, 12, 13, 17, 19, 21}, {32, 33, 2, 8, 14, 15, 18, 20, 22, 23, 24, 25, 26, 27, 28, 29, 30, 31}, {4, 5, 6, 10, 16}, {9})\n"
     ]
    }
   ],
   "source": [
    "# Calculate partition\n",
    "communities = girvan_newman(G)\n",
    "\n",
    "# Choose a limit on the number of partitions\n",
    "k = 4\n",
    "\n",
    "# Limit generator in your for loop\n",
    "limited = itertools.takewhile(lambda c: len(c) <= k, communities)\n",
    "\n",
    "partitions = [c for c in limited]\n",
    "\n",
    "for p in partitions:\n",
    "    print(p)"
   ]
  },
  {
   "cell_type": "markdown",
   "id": "60485368-99dc-4edb-bc1d-e431d6a96743",
   "metadata": {},
   "source": [
    "You need to decide how many communities you take! In this case, it seems like 2 is the optimal number.\n",
    "\n",
    "You could add these communities as a node attribute."
   ]
  },
  {
   "cell_type": "code",
   "execution_count": 4,
   "id": "103fee79-da79-484c-9cdb-c8ef81702785",
   "metadata": {},
   "outputs": [
    {
     "name": "stdout",
     "output_type": "stream",
     "text": [
      "{0: 0, 1: 0, 3: 0, 4: 0, 5: 0, 6: 0, 7: 0, 10: 0, 11: 0, 12: 0, 13: 0, 16: 0, 17: 0, 19: 0, 21: 0, 2: 1, 8: 1, 9: 1, 14: 1, 15: 1, 18: 1, 20: 1, 22: 1, 23: 1, 24: 1, 25: 1, 26: 1, 27: 1, 28: 1, 29: 1, 30: 1, 31: 1, 32: 1, 33: 1}\n"
     ]
    }
   ],
   "source": [
    "two_groups = partitions[0]\n",
    "\n",
    "partition_dict = {}\n",
    "for i,group in enumerate(two_groups):\n",
    "    for g in group:\n",
    "        partition_dict[g] = i\n",
    "        \n",
    "print(partition_dict)"
   ]
  },
  {
   "cell_type": "code",
   "execution_count": 5,
   "id": "20484bea-2306-408a-98ec-255e21b8ef4c",
   "metadata": {},
   "outputs": [
    {
     "data": {
      "text/plain": [
       "NodeDataView({0: {'club': 'Mr. Hi', 'gn_partition': 0}, 1: {'club': 'Mr. Hi', 'gn_partition': 0}, 2: {'club': 'Mr. Hi', 'gn_partition': 1}, 3: {'club': 'Mr. Hi', 'gn_partition': 0}, 4: {'club': 'Mr. Hi', 'gn_partition': 0}, 5: {'club': 'Mr. Hi', 'gn_partition': 0}, 6: {'club': 'Mr. Hi', 'gn_partition': 0}, 7: {'club': 'Mr. Hi', 'gn_partition': 0}, 8: {'club': 'Mr. Hi', 'gn_partition': 1}, 9: {'club': 'Officer', 'gn_partition': 1}, 10: {'club': 'Mr. Hi', 'gn_partition': 0}, 11: {'club': 'Mr. Hi', 'gn_partition': 0}, 12: {'club': 'Mr. Hi', 'gn_partition': 0}, 13: {'club': 'Mr. Hi', 'gn_partition': 0}, 14: {'club': 'Officer', 'gn_partition': 1}, 15: {'club': 'Officer', 'gn_partition': 1}, 16: {'club': 'Mr. Hi', 'gn_partition': 0}, 17: {'club': 'Mr. Hi', 'gn_partition': 0}, 18: {'club': 'Officer', 'gn_partition': 1}, 19: {'club': 'Mr. Hi', 'gn_partition': 0}, 20: {'club': 'Officer', 'gn_partition': 1}, 21: {'club': 'Mr. Hi', 'gn_partition': 0}, 22: {'club': 'Officer', 'gn_partition': 1}, 23: {'club': 'Officer', 'gn_partition': 1}, 24: {'club': 'Officer', 'gn_partition': 1}, 25: {'club': 'Officer', 'gn_partition': 1}, 26: {'club': 'Officer', 'gn_partition': 1}, 27: {'club': 'Officer', 'gn_partition': 1}, 28: {'club': 'Officer', 'gn_partition': 1}, 29: {'club': 'Officer', 'gn_partition': 1}, 30: {'club': 'Officer', 'gn_partition': 1}, 31: {'club': 'Officer', 'gn_partition': 1}, 32: {'club': 'Officer', 'gn_partition': 1}, 33: {'club': 'Officer', 'gn_partition': 1}})"
      ]
     },
     "execution_count": 5,
     "metadata": {},
     "output_type": "execute_result"
    }
   ],
   "source": [
    "nx.set_node_attributes(G, partition_dict, \"gn_partition\")\n",
    "\n",
    "G.nodes.data()"
   ]
  },
  {
   "cell_type": "markdown",
   "id": "b26c65b2-90f0-43b7-af43-0f6b27034bee",
   "metadata": {},
   "source": [
    "Look at how closely the Girvan-Newman communities overlap with the two different karate clubs!\n",
    "\n",
    "## Louvain Modularity\n",
    "\n",
    "In addition to the Girvan-Newman betweenness-based method, you can also determine communities based on Louvain modularity. Remember that modularity is very similar to the \"homophily\" metric we generated in the previous chapter.\n",
    "\n",
    "The Louvain method attempts to maximize modularity, by moving nodes between partitions until the highest possible modularity values for each partition are achieved. Because this is an agglomerative method, it's possible to ask the algorithm to generate the optimal number of communities. (NetworkX does this automatically.)"
   ]
  },
  {
   "cell_type": "code",
   "execution_count": 6,
   "id": "a61d4408-92c9-45e3-b409-3be8361b4fae",
   "metadata": {},
   "outputs": [
    {
     "name": "stdout",
     "output_type": "stream",
     "text": [
      "[{1, 2, 3, 7, 12, 13}, {0, 4, 5, 6, 10, 11, 16, 17, 19, 21}, {24, 25, 28, 31}, {32, 33, 8, 9, 14, 15, 18, 20, 22, 23, 26, 27, 29, 30}]\n"
     ]
    }
   ],
   "source": [
    "# You have to import this function as well\n",
    "from networkx.algorithms.community import louvain_communities\n",
    "\n",
    "# Run the algorithm with a random seed, so it's the same each time\n",
    "louvain = louvain_communities(G, seed=42)\n",
    "print(louvain)"
   ]
  },
  {
   "cell_type": "markdown",
   "id": "a34a9cab-6582-4b67-ac9f-8b10a75d60f8",
   "metadata": {},
   "source": [
    "The Louvain algorithm generated 4 partitions instead of two! You can add these to your graph in a similar manner as above."
   ]
  },
  {
   "cell_type": "code",
   "execution_count": 7,
   "id": "19529cbb-e850-4bfb-8f67-71ef5b3657d0",
   "metadata": {},
   "outputs": [
    {
     "name": "stdout",
     "output_type": "stream",
     "text": [
      "{1: 0, 2: 0, 3: 0, 7: 0, 12: 0, 13: 0, 0: 1, 4: 1, 5: 1, 6: 1, 10: 1, 11: 1, 16: 1, 17: 1, 19: 1, 21: 1, 24: 2, 25: 2, 28: 2, 31: 2, 32: 3, 33: 3, 8: 3, 9: 3, 14: 3, 15: 3, 18: 3, 20: 3, 22: 3, 23: 3, 26: 3, 27: 3, 29: 3, 30: 3}\n"
     ]
    }
   ],
   "source": [
    "louvain_dict = {}\n",
    "for i,group in enumerate(louvain):\n",
    "    for g in group:\n",
    "        louvain_dict[g] = i\n",
    "        \n",
    "print(louvain_dict)"
   ]
  },
  {
   "cell_type": "code",
   "execution_count": 8,
   "id": "980f57e7-1fbd-43da-95df-94f60c50d2d7",
   "metadata": {},
   "outputs": [
    {
     "data": {
      "text/plain": [
       "NodeDataView({0: {'club': 'Mr. Hi', 'gn_partition': 0, 'louvain_partition': 1}, 1: {'club': 'Mr. Hi', 'gn_partition': 0, 'louvain_partition': 0}, 2: {'club': 'Mr. Hi', 'gn_partition': 1, 'louvain_partition': 0}, 3: {'club': 'Mr. Hi', 'gn_partition': 0, 'louvain_partition': 0}, 4: {'club': 'Mr. Hi', 'gn_partition': 0, 'louvain_partition': 1}, 5: {'club': 'Mr. Hi', 'gn_partition': 0, 'louvain_partition': 1}, 6: {'club': 'Mr. Hi', 'gn_partition': 0, 'louvain_partition': 1}, 7: {'club': 'Mr. Hi', 'gn_partition': 0, 'louvain_partition': 0}, 8: {'club': 'Mr. Hi', 'gn_partition': 1, 'louvain_partition': 3}, 9: {'club': 'Officer', 'gn_partition': 1, 'louvain_partition': 3}, 10: {'club': 'Mr. Hi', 'gn_partition': 0, 'louvain_partition': 1}, 11: {'club': 'Mr. Hi', 'gn_partition': 0, 'louvain_partition': 1}, 12: {'club': 'Mr. Hi', 'gn_partition': 0, 'louvain_partition': 0}, 13: {'club': 'Mr. Hi', 'gn_partition': 0, 'louvain_partition': 0}, 14: {'club': 'Officer', 'gn_partition': 1, 'louvain_partition': 3}, 15: {'club': 'Officer', 'gn_partition': 1, 'louvain_partition': 3}, 16: {'club': 'Mr. Hi', 'gn_partition': 0, 'louvain_partition': 1}, 17: {'club': 'Mr. Hi', 'gn_partition': 0, 'louvain_partition': 1}, 18: {'club': 'Officer', 'gn_partition': 1, 'louvain_partition': 3}, 19: {'club': 'Mr. Hi', 'gn_partition': 0, 'louvain_partition': 1}, 20: {'club': 'Officer', 'gn_partition': 1, 'louvain_partition': 3}, 21: {'club': 'Mr. Hi', 'gn_partition': 0, 'louvain_partition': 1}, 22: {'club': 'Officer', 'gn_partition': 1, 'louvain_partition': 3}, 23: {'club': 'Officer', 'gn_partition': 1, 'louvain_partition': 3}, 24: {'club': 'Officer', 'gn_partition': 1, 'louvain_partition': 2}, 25: {'club': 'Officer', 'gn_partition': 1, 'louvain_partition': 2}, 26: {'club': 'Officer', 'gn_partition': 1, 'louvain_partition': 3}, 27: {'club': 'Officer', 'gn_partition': 1, 'louvain_partition': 3}, 28: {'club': 'Officer', 'gn_partition': 1, 'louvain_partition': 2}, 29: {'club': 'Officer', 'gn_partition': 1, 'louvain_partition': 3}, 30: {'club': 'Officer', 'gn_partition': 1, 'louvain_partition': 3}, 31: {'club': 'Officer', 'gn_partition': 1, 'louvain_partition': 2}, 32: {'club': 'Officer', 'gn_partition': 1, 'louvain_partition': 3}, 33: {'club': 'Officer', 'gn_partition': 1, 'louvain_partition': 3}})"
      ]
     },
     "execution_count": 8,
     "metadata": {},
     "output_type": "execute_result"
    }
   ],
   "source": [
    "nx.set_node_attributes(G, louvain_dict, \"louvain_partition\")\n",
    "\n",
    "G.nodes.data()"
   ]
  },
  {
   "cell_type": "markdown",
   "id": "c85fffb9-65cc-44ec-a13b-33ae34d5e648",
   "metadata": {},
   "source": [
    "From here a Pandas DataFrame can help you compare the two community detection methods to the real communities."
   ]
  },
  {
   "cell_type": "code",
   "execution_count": 9,
   "id": "15ef319f-4c30-43b9-b31f-6ee222d8e77c",
   "metadata": {},
   "outputs": [
    {
     "data": {
      "text/html": [
       "<div>\n",
       "<style scoped>\n",
       "    .dataframe tbody tr th:only-of-type {\n",
       "        vertical-align: middle;\n",
       "    }\n",
       "\n",
       "    .dataframe tbody tr th {\n",
       "        vertical-align: top;\n",
       "    }\n",
       "\n",
       "    .dataframe thead th {\n",
       "        text-align: right;\n",
       "    }\n",
       "</style>\n",
       "<table border=\"1\" class=\"dataframe\">\n",
       "  <thead>\n",
       "    <tr style=\"text-align: right;\">\n",
       "      <th></th>\n",
       "      <th>node_id</th>\n",
       "      <th>club</th>\n",
       "      <th>gn_partition</th>\n",
       "      <th>louvain_partition</th>\n",
       "    </tr>\n",
       "  </thead>\n",
       "  <tbody>\n",
       "    <tr>\n",
       "      <th>0</th>\n",
       "      <td>0</td>\n",
       "      <td>Mr. Hi</td>\n",
       "      <td>0</td>\n",
       "      <td>1</td>\n",
       "    </tr>\n",
       "    <tr>\n",
       "      <th>21</th>\n",
       "      <td>21</td>\n",
       "      <td>Mr. Hi</td>\n",
       "      <td>0</td>\n",
       "      <td>1</td>\n",
       "    </tr>\n",
       "    <tr>\n",
       "      <th>19</th>\n",
       "      <td>19</td>\n",
       "      <td>Mr. Hi</td>\n",
       "      <td>0</td>\n",
       "      <td>1</td>\n",
       "    </tr>\n",
       "    <tr>\n",
       "      <th>17</th>\n",
       "      <td>17</td>\n",
       "      <td>Mr. Hi</td>\n",
       "      <td>0</td>\n",
       "      <td>1</td>\n",
       "    </tr>\n",
       "    <tr>\n",
       "      <th>13</th>\n",
       "      <td>13</td>\n",
       "      <td>Mr. Hi</td>\n",
       "      <td>0</td>\n",
       "      <td>0</td>\n",
       "    </tr>\n",
       "    <tr>\n",
       "      <th>12</th>\n",
       "      <td>12</td>\n",
       "      <td>Mr. Hi</td>\n",
       "      <td>0</td>\n",
       "      <td>0</td>\n",
       "    </tr>\n",
       "    <tr>\n",
       "      <th>11</th>\n",
       "      <td>11</td>\n",
       "      <td>Mr. Hi</td>\n",
       "      <td>0</td>\n",
       "      <td>1</td>\n",
       "    </tr>\n",
       "    <tr>\n",
       "      <th>10</th>\n",
       "      <td>10</td>\n",
       "      <td>Mr. Hi</td>\n",
       "      <td>0</td>\n",
       "      <td>1</td>\n",
       "    </tr>\n",
       "    <tr>\n",
       "      <th>16</th>\n",
       "      <td>16</td>\n",
       "      <td>Mr. Hi</td>\n",
       "      <td>0</td>\n",
       "      <td>1</td>\n",
       "    </tr>\n",
       "    <tr>\n",
       "      <th>1</th>\n",
       "      <td>1</td>\n",
       "      <td>Mr. Hi</td>\n",
       "      <td>0</td>\n",
       "      <td>0</td>\n",
       "    </tr>\n",
       "    <tr>\n",
       "      <th>7</th>\n",
       "      <td>7</td>\n",
       "      <td>Mr. Hi</td>\n",
       "      <td>0</td>\n",
       "      <td>0</td>\n",
       "    </tr>\n",
       "    <tr>\n",
       "      <th>6</th>\n",
       "      <td>6</td>\n",
       "      <td>Mr. Hi</td>\n",
       "      <td>0</td>\n",
       "      <td>1</td>\n",
       "    </tr>\n",
       "    <tr>\n",
       "      <th>5</th>\n",
       "      <td>5</td>\n",
       "      <td>Mr. Hi</td>\n",
       "      <td>0</td>\n",
       "      <td>1</td>\n",
       "    </tr>\n",
       "    <tr>\n",
       "      <th>4</th>\n",
       "      <td>4</td>\n",
       "      <td>Mr. Hi</td>\n",
       "      <td>0</td>\n",
       "      <td>1</td>\n",
       "    </tr>\n",
       "    <tr>\n",
       "      <th>3</th>\n",
       "      <td>3</td>\n",
       "      <td>Mr. Hi</td>\n",
       "      <td>0</td>\n",
       "      <td>0</td>\n",
       "    </tr>\n",
       "    <tr>\n",
       "      <th>2</th>\n",
       "      <td>2</td>\n",
       "      <td>Mr. Hi</td>\n",
       "      <td>1</td>\n",
       "      <td>0</td>\n",
       "    </tr>\n",
       "    <tr>\n",
       "      <th>8</th>\n",
       "      <td>8</td>\n",
       "      <td>Mr. Hi</td>\n",
       "      <td>1</td>\n",
       "      <td>3</td>\n",
       "    </tr>\n",
       "    <tr>\n",
       "      <th>31</th>\n",
       "      <td>31</td>\n",
       "      <td>Officer</td>\n",
       "      <td>1</td>\n",
       "      <td>2</td>\n",
       "    </tr>\n",
       "    <tr>\n",
       "      <th>30</th>\n",
       "      <td>30</td>\n",
       "      <td>Officer</td>\n",
       "      <td>1</td>\n",
       "      <td>3</td>\n",
       "    </tr>\n",
       "    <tr>\n",
       "      <th>29</th>\n",
       "      <td>29</td>\n",
       "      <td>Officer</td>\n",
       "      <td>1</td>\n",
       "      <td>3</td>\n",
       "    </tr>\n",
       "    <tr>\n",
       "      <th>28</th>\n",
       "      <td>28</td>\n",
       "      <td>Officer</td>\n",
       "      <td>1</td>\n",
       "      <td>2</td>\n",
       "    </tr>\n",
       "    <tr>\n",
       "      <th>27</th>\n",
       "      <td>27</td>\n",
       "      <td>Officer</td>\n",
       "      <td>1</td>\n",
       "      <td>3</td>\n",
       "    </tr>\n",
       "    <tr>\n",
       "      <th>26</th>\n",
       "      <td>26</td>\n",
       "      <td>Officer</td>\n",
       "      <td>1</td>\n",
       "      <td>3</td>\n",
       "    </tr>\n",
       "    <tr>\n",
       "      <th>25</th>\n",
       "      <td>25</td>\n",
       "      <td>Officer</td>\n",
       "      <td>1</td>\n",
       "      <td>2</td>\n",
       "    </tr>\n",
       "    <tr>\n",
       "      <th>9</th>\n",
       "      <td>9</td>\n",
       "      <td>Officer</td>\n",
       "      <td>1</td>\n",
       "      <td>3</td>\n",
       "    </tr>\n",
       "    <tr>\n",
       "      <th>23</th>\n",
       "      <td>23</td>\n",
       "      <td>Officer</td>\n",
       "      <td>1</td>\n",
       "      <td>3</td>\n",
       "    </tr>\n",
       "    <tr>\n",
       "      <th>22</th>\n",
       "      <td>22</td>\n",
       "      <td>Officer</td>\n",
       "      <td>1</td>\n",
       "      <td>3</td>\n",
       "    </tr>\n",
       "    <tr>\n",
       "      <th>20</th>\n",
       "      <td>20</td>\n",
       "      <td>Officer</td>\n",
       "      <td>1</td>\n",
       "      <td>3</td>\n",
       "    </tr>\n",
       "    <tr>\n",
       "      <th>18</th>\n",
       "      <td>18</td>\n",
       "      <td>Officer</td>\n",
       "      <td>1</td>\n",
       "      <td>3</td>\n",
       "    </tr>\n",
       "    <tr>\n",
       "      <th>32</th>\n",
       "      <td>32</td>\n",
       "      <td>Officer</td>\n",
       "      <td>1</td>\n",
       "      <td>3</td>\n",
       "    </tr>\n",
       "    <tr>\n",
       "      <th>15</th>\n",
       "      <td>15</td>\n",
       "      <td>Officer</td>\n",
       "      <td>1</td>\n",
       "      <td>3</td>\n",
       "    </tr>\n",
       "    <tr>\n",
       "      <th>14</th>\n",
       "      <td>14</td>\n",
       "      <td>Officer</td>\n",
       "      <td>1</td>\n",
       "      <td>3</td>\n",
       "    </tr>\n",
       "    <tr>\n",
       "      <th>24</th>\n",
       "      <td>24</td>\n",
       "      <td>Officer</td>\n",
       "      <td>1</td>\n",
       "      <td>2</td>\n",
       "    </tr>\n",
       "    <tr>\n",
       "      <th>33</th>\n",
       "      <td>33</td>\n",
       "      <td>Officer</td>\n",
       "      <td>1</td>\n",
       "      <td>3</td>\n",
       "    </tr>\n",
       "  </tbody>\n",
       "</table>\n",
       "</div>"
      ],
      "text/plain": [
       "    node_id     club  gn_partition  louvain_partition\n",
       "0         0   Mr. Hi             0                  1\n",
       "21       21   Mr. Hi             0                  1\n",
       "19       19   Mr. Hi             0                  1\n",
       "17       17   Mr. Hi             0                  1\n",
       "13       13   Mr. Hi             0                  0\n",
       "12       12   Mr. Hi             0                  0\n",
       "11       11   Mr. Hi             0                  1\n",
       "10       10   Mr. Hi             0                  1\n",
       "16       16   Mr. Hi             0                  1\n",
       "1         1   Mr. Hi             0                  0\n",
       "7         7   Mr. Hi             0                  0\n",
       "6         6   Mr. Hi             0                  1\n",
       "5         5   Mr. Hi             0                  1\n",
       "4         4   Mr. Hi             0                  1\n",
       "3         3   Mr. Hi             0                  0\n",
       "2         2   Mr. Hi             1                  0\n",
       "8         8   Mr. Hi             1                  3\n",
       "31       31  Officer             1                  2\n",
       "30       30  Officer             1                  3\n",
       "29       29  Officer             1                  3\n",
       "28       28  Officer             1                  2\n",
       "27       27  Officer             1                  3\n",
       "26       26  Officer             1                  3\n",
       "25       25  Officer             1                  2\n",
       "9         9  Officer             1                  3\n",
       "23       23  Officer             1                  3\n",
       "22       22  Officer             1                  3\n",
       "20       20  Officer             1                  3\n",
       "18       18  Officer             1                  3\n",
       "32       32  Officer             1                  3\n",
       "15       15  Officer             1                  3\n",
       "14       14  Officer             1                  3\n",
       "24       24  Officer             1                  2\n",
       "33       33  Officer             1                  3"
      ]
     },
     "execution_count": 9,
     "metadata": {},
     "output_type": "execute_result"
    }
   ],
   "source": [
    "nodes = pd.DataFrame.from_dict(G.nodes, orient='index')\n",
    "nodes.reset_index(level=0,names=\"node_id\",inplace=True)\n",
    "nodes.sort_values(\"club\")"
   ]
  }
 ],
 "metadata": {
  "kernelspec": {
   "display_name": "Python 3 (ipykernel)",
   "language": "python",
   "name": "python3"
  },
  "language_info": {
   "codemirror_mode": {
    "name": "ipython",
    "version": 3
   },
   "file_extension": ".py",
   "mimetype": "text/x-python",
   "name": "python",
   "nbconvert_exporter": "python",
   "pygments_lexer": "ipython3",
   "version": "3.9.6"
  }
 },
 "nbformat": 4,
 "nbformat_minor": 5
}