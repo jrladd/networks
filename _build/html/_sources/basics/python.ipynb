{
 "cells": [
  {
   "cell_type": "markdown",
   "id": "f4ae9ac3-89e8-47c6-904c-bc1cc96e719a",
   "metadata": {},
   "source": [
    "# Python\n",
    "\n",
    "This first chapter outlines the basic ways to work in Python. If you're familiar with other programming languages, you'll likely spot some overlap.\n",
    "\n",
    "```{seealso}\n",
    "For more on anything you see here, you can check out the [Python documentation](https://docs.python.org/3/).\n",
    "```\n",
    "\n",
    "## Variables\n",
    "\n",
    "Use the `=` sign to store anything inside a variable."
   ]
  },
  {
   "cell_type": "code",
   "execution_count": 4,
   "id": "8334bc84-cd41-45e3-94a1-0c398a58ace4",
   "metadata": {
    "tags": []
   },
   "outputs": [
    {
     "name": "stdout",
     "output_type": "stream",
     "text": [
      "5\n"
     ]
    }
   ],
   "source": [
    "myvar = 5\n",
    "print(myvar)"
   ]
  },
  {
   "cell_type": "markdown",
   "id": "733a928a-6b63-4b00-973f-128f4f2144d2",
   "metadata": {},
   "source": [
    "Use descriptive variable names and avoid spaces! You can try:\n",
    "\n",
    "```\n",
    "snake_case\n",
    "camelCase\n",
    "OrEven_mix_it_up\n",
    "```\n",
    "\n",
    "Variables have distinct types, and you can find out a variable's data type with the `type()` function."
   ]
  },
  {
   "cell_type": "code",
   "execution_count": 5,
   "id": "ade40110-fe2d-4df2-806d-d7e839a77c8c",
   "metadata": {
    "tags": []
   },
   "outputs": [
    {
     "data": {
      "text/plain": [
       "int"
      ]
     },
     "execution_count": 5,
     "metadata": {},
     "output_type": "execute_result"
    }
   ],
   "source": [
    "type(myvar)"
   ]
  },
  {
   "cell_type": "code",
   "execution_count": 6,
   "id": "b6db8778-c069-4826-b3da-d7ce8f928a8a",
   "metadata": {
    "tags": []
   },
   "outputs": [
    {
     "data": {
      "text/plain": [
       "str"
      ]
     },
     "execution_count": 6,
     "metadata": {},
     "output_type": "execute_result"
    }
   ],
   "source": [
    "stringvar = \"five\"\n",
    "type(stringvar)"
   ]
  },
  {
   "cell_type": "markdown",
   "id": "07d75fc3-ffef-4a53-9977-2382dce3c239",
   "metadata": {},
   "source": [
    "## Comments\n",
    "\n",
    "Use the `#` sign at the start of a line to create a comment. "
   ]
  },
  {
   "cell_type": "code",
   "execution_count": 7,
   "id": "ffda5ac8-8314-4eb8-a441-3a4cdf154aab",
   "metadata": {
    "tags": []
   },
   "outputs": [],
   "source": [
    "# This variable contains a continuous value\n",
    "some_variable = 2.5"
   ]
  },
  {
   "cell_type": "markdown",
   "id": "234b062f-5698-4a85-beef-ca6e0c39d967",
   "metadata": {},
   "source": [
    "You can use comments to keep track of what you're using, leave a note for someone working after you, and especially to *create a citation if the code you're using isn't your own*.\n",
    "\n",
    "## Data Structures\n",
    "\n",
    "Python contains several useful data structures. These overlap with the data structures available in other languages, but they often have different names.\n",
    "\n",
    "### Lists\n",
    "\n",
    "Lists are analogous to arrays in other languages. They use brackets to contain ordered lists of data."
   ]
  },
  {
   "cell_type": "code",
   "execution_count": 8,
   "id": "c1c924a9-d354-4ff4-9a8d-d721e7e53810",
   "metadata": {
    "tags": []
   },
   "outputs": [
    {
     "name": "stdout",
     "output_type": "stream",
     "text": [
      "[5, 6, 7]\n"
     ]
    }
   ],
   "source": [
    "mylist = [5,6,7]\n",
    "\n",
    "secondlist = [\"cat\",\"dog\",\"fish\"]\n",
    "\n",
    "print(mylist)"
   ]
  },
  {
   "cell_type": "markdown",
   "id": "18f58f87-87dc-4624-a7bc-cbcfc566c719",
   "metadata": {},
   "source": [
    "In a list, you can easily access items using \"list slicing,\" a bracket notation that lets you access list items with their index."
   ]
  },
  {
   "cell_type": "code",
   "execution_count": 9,
   "id": "25b94207-6580-47b6-9eec-eba9b1dbcc5c",
   "metadata": {
    "tags": []
   },
   "outputs": [
    {
     "data": {
      "text/plain": [
       "5"
      ]
     },
     "execution_count": 9,
     "metadata": {},
     "output_type": "execute_result"
    }
   ],
   "source": [
    "# Get the first item in a list, at index 0\n",
    "mylist[0]"
   ]
  },
  {
   "cell_type": "code",
   "execution_count": 10,
   "id": "9090baef-df42-4350-b722-982e7a5a97f0",
   "metadata": {
    "tags": []
   },
   "outputs": [
    {
     "data": {
      "text/plain": [
       "['dog', 'fish']"
      ]
     },
     "execution_count": 10,
     "metadata": {},
     "output_type": "execute_result"
    }
   ],
   "source": [
    "# Get several items in a list, with a range of values\n",
    "secondlist[1:3]"
   ]
  },
  {
   "cell_type": "code",
   "execution_count": 11,
   "id": "fd2c4743-14fc-42ea-a354-bc8bf2bc547a",
   "metadata": {
    "tags": []
   },
   "outputs": [
    {
     "data": {
      "text/plain": [
       "7"
      ]
     },
     "execution_count": 11,
     "metadata": {},
     "output_type": "execute_result"
    }
   ],
   "source": [
    "# Get items from the end of a list with negative values\n",
    "mylist[-1]"
   ]
  },
  {
   "cell_type": "markdown",
   "id": "ee900f4c-47d9-427c-9a9a-7a8847139fb1",
   "metadata": {},
   "source": [
    "You can also create a list of numbers (starting at 0) with the `range()` function:"
   ]
  },
  {
   "cell_type": "code",
   "execution_count": 12,
   "id": "9f5e8243-12b8-4b43-a646-e22835514267",
   "metadata": {},
   "outputs": [
    {
     "data": {
      "text/plain": [
       "[0, 1, 2, 3, 4, 5, 6, 7, 8, 9]"
      ]
     },
     "execution_count": 12,
     "metadata": {},
     "output_type": "execute_result"
    }
   ],
   "source": [
    "list(range(10))"
   ]
  },
  {
   "cell_type": "markdown",
   "id": "fc0cbe56-3266-423f-a311-4f2d38e9a8a2",
   "metadata": {},
   "source": [
    "```{note}\n",
    "Python also has *tuples*, which are a lot like lists but use parentheses instead of brackets: i.e. `(1, 2, 3)`. Tuples often include just 2 items at a time.\n",
    "```"
   ]
  },
  {
   "cell_type": "markdown",
   "id": "c1543d90-8455-4c91-853d-c436af91eeb2",
   "metadata": {},
   "source": [
    "### Sets\n",
    "\n",
    "Sets are like lists, but they include only unique items. They use braces instead of brackets."
   ]
  },
  {
   "cell_type": "code",
   "execution_count": 13,
   "id": "5665ad7c-1e8f-404f-a0b0-3518effc5a2d",
   "metadata": {
    "tags": []
   },
   "outputs": [
    {
     "name": "stdout",
     "output_type": "stream",
     "text": [
      "{1, 2, 3, 4}\n"
     ]
    }
   ],
   "source": [
    "myset = {1, 2, 3, 4}\n",
    "print(myset)"
   ]
  },
  {
   "cell_type": "markdown",
   "id": "fb0e406e-3bf5-4a0c-b4a9-8290e3c381f9",
   "metadata": {},
   "source": [
    "You can turn a list into a set to get only the unique items in that list:"
   ]
  },
  {
   "cell_type": "code",
   "execution_count": 14,
   "id": "972f9967-0a0a-4440-ab5a-0954b0617b16",
   "metadata": {
    "tags": []
   },
   "outputs": [
    {
     "data": {
      "text/plain": [
       "{1, 2, 3, 4, 5, 6}"
      ]
     },
     "execution_count": 14,
     "metadata": {},
     "output_type": "execute_result"
    }
   ],
   "source": [
    "repeating_list = [1, 2, 1, 3, 3, 5, 4, 6, 4, 1]\n",
    "set(repeating_list)"
   ]
  },
  {
   "cell_type": "markdown",
   "id": "23e8ba87-0e31-468c-98b8-555117cbf6d0",
   "metadata": {},
   "source": [
    "Sets have special operators to combine sets and find intersections."
   ]
  },
  {
   "cell_type": "code",
   "execution_count": 15,
   "id": "298f586f-6e18-4b17-9a34-7f39d93b24aa",
   "metadata": {
    "tags": []
   },
   "outputs": [
    {
     "data": {
      "text/plain": [
       "{1, 2, 3, 4, 5}"
      ]
     },
     "execution_count": 15,
     "metadata": {},
     "output_type": "execute_result"
    }
   ],
   "source": [
    "set1 = {1, 2, 3}\n",
    "set2 = {3, 4, 5}\n",
    "\n",
    "# Items in either set\n",
    "set1 | set2"
   ]
  },
  {
   "cell_type": "code",
   "execution_count": 16,
   "id": "65c30c86-4c9d-4ef6-b862-32436cb0d97c",
   "metadata": {
    "tags": []
   },
   "outputs": [
    {
     "data": {
      "text/plain": [
       "{3}"
      ]
     },
     "execution_count": 16,
     "metadata": {},
     "output_type": "execute_result"
    }
   ],
   "source": [
    "# Items in both sets\n",
    "set1 & set2"
   ]
  },
  {
   "cell_type": "code",
   "execution_count": 17,
   "id": "0919a0d1-2b5a-4ff2-a4ce-5f9c0b43a966",
   "metadata": {
    "tags": []
   },
   "outputs": [
    {
     "data": {
      "text/plain": [
       "{1, 2}"
      ]
     },
     "execution_count": 17,
     "metadata": {},
     "output_type": "execute_result"
    }
   ],
   "source": [
    "# Items in one set but not the other\n",
    "set1 - set2"
   ]
  },
  {
   "cell_type": "code",
   "execution_count": 18,
   "id": "e77f2673-3bf4-4168-8c7a-23cc54a5f192",
   "metadata": {
    "tags": []
   },
   "outputs": [
    {
     "data": {
      "text/plain": [
       "{1, 2, 4, 5}"
      ]
     },
     "execution_count": 18,
     "metadata": {},
     "output_type": "execute_result"
    }
   ],
   "source": [
    "# Items in either set but not both\n",
    "set1 ^ set2"
   ]
  },
  {
   "cell_type": "markdown",
   "id": "e2ddfc30-f47f-41c9-bc7a-e27ccc7a4a34",
   "metadata": {},
   "source": [
    "### Dictionaries\n",
    "\n",
    "Dictionaries are analogous to objects in other languages. They contain key-value pairs, and they're also surrounded by brackets."
   ]
  },
  {
   "cell_type": "code",
   "execution_count": 19,
   "id": "df2f75ed-6fc9-45dd-b9cb-dc1d6d731d06",
   "metadata": {
    "tags": []
   },
   "outputs": [
    {
     "name": "stdout",
     "output_type": "stream",
     "text": [
      "{'pet_name': 'Fido', 'age': 5, 'pet_type': 'dog'}\n"
     ]
    }
   ],
   "source": [
    "mydictionary = {\"pet_name\": \"Fido\", \"age\": 5, \"pet_type\": \"dog\"}\n",
    "print(mydictionary)"
   ]
  },
  {
   "cell_type": "markdown",
   "id": "e34f9075-1229-4ec7-a2d2-91e3d5473e6b",
   "metadata": {},
   "source": [
    "You can access items in a dictionary using bracket notation, similar to list slicing."
   ]
  },
  {
   "cell_type": "code",
   "execution_count": 20,
   "id": "df8d90eb-ddf5-4a63-b6bb-15089e4ebeed",
   "metadata": {
    "tags": []
   },
   "outputs": [
    {
     "data": {
      "text/plain": [
       "'Fido'"
      ]
     },
     "execution_count": 20,
     "metadata": {},
     "output_type": "execute_result"
    }
   ],
   "source": [
    "mydictionary[\"pet_name\"]"
   ]
  },
  {
   "cell_type": "code",
   "execution_count": 21,
   "id": "4966abc7-9688-44f8-9152-9f5b9cebbf5e",
   "metadata": {
    "tags": []
   },
   "outputs": [
    {
     "data": {
      "text/plain": [
       "5"
      ]
     },
     "execution_count": 21,
     "metadata": {},
     "output_type": "execute_result"
    }
   ],
   "source": [
    "mydictionary[\"age\"]"
   ]
  },
  {
   "cell_type": "markdown",
   "id": "e56ff446-20c7-4d4d-aa32-dbf7d4c8f41f",
   "metadata": {},
   "source": [
    "If you have two lists or sets of the same length, you can use `zip()` to combine them as the keys and values of a new dictionary.\n",
    "\n",
    "```{note}\n",
    "The zip function returns a generator (see below), so you need to convert it to a dictionary with the `dict()` function.\n",
    "```"
   ]
  },
  {
   "cell_type": "code",
   "execution_count": 37,
   "id": "858c1cc8-253a-4e9f-9846-8bd1da3f0f9d",
   "metadata": {},
   "outputs": [
    {
     "data": {
      "text/plain": [
       "{'cat': 5, 'dog': 6, 'fish': 7}"
      ]
     },
     "execution_count": 37,
     "metadata": {},
     "output_type": "execute_result"
    }
   ],
   "source": [
    "# Keep in mind that dictionary keys must be unique values\n",
    "\n",
    "zipped_dictionary = zip(secondlist, mylist)\n",
    "dict(zipped_dictionary)"
   ]
  },
  {
   "cell_type": "markdown",
   "id": "355cc694-a882-494e-b422-f118594a9204",
   "metadata": {},
   "source": [
    "### Generators/Iterators\n",
    "\n",
    "Some functions and methods in Python output generators instead of a distinct data type. These generators often need to be converted to a specific data type before they can be used.\n",
    "\n",
    "For example, the dictionary method `.values()` gets the values of a dictionary as an iterator:"
   ]
  },
  {
   "cell_type": "code",
   "execution_count": 22,
   "id": "fc4abf2f-3d4b-46c4-a3e0-92f87d4163b7",
   "metadata": {
    "tags": []
   },
   "outputs": [
    {
     "data": {
      "text/plain": [
       "dict_values(['Fido', 5, 'dog'])"
      ]
     },
     "execution_count": 22,
     "metadata": {},
     "output_type": "execute_result"
    }
   ],
   "source": [
    "mydictionary.values()"
   ]
  },
  {
   "cell_type": "markdown",
   "id": "6e95bba1-2c38-454a-bbf2-b688fe57b864",
   "metadata": {},
   "source": [
    "We can see those values above, but we can't access them in the way we would a list. The code below will throw an error:"
   ]
  },
  {
   "cell_type": "code",
   "execution_count": 23,
   "id": "cc3436ce-4ecf-4a96-9abe-5383c768c112",
   "metadata": {
    "tags": []
   },
   "outputs": [
    {
     "ename": "TypeError",
     "evalue": "'dict_values' object is not subscriptable",
     "output_type": "error",
     "traceback": [
      "\u001b[0;31m---------------------------------------------------------------------------\u001b[0m",
      "\u001b[0;31mTypeError\u001b[0m                                 Traceback (most recent call last)",
      "Cell \u001b[0;32mIn[23], line 1\u001b[0m\n\u001b[0;32m----> 1\u001b[0m \u001b[43mmydictionary\u001b[49m\u001b[38;5;241;43m.\u001b[39;49m\u001b[43mvalues\u001b[49m\u001b[43m(\u001b[49m\u001b[43m)\u001b[49m\u001b[43m[\u001b[49m\u001b[38;5;241;43m1\u001b[39;49m\u001b[43m]\u001b[49m\n",
      "\u001b[0;31mTypeError\u001b[0m: 'dict_values' object is not subscriptable"
     ]
    }
   ],
   "source": [
    "mydictionary.values()[1]"
   ]
  },
  {
   "cell_type": "markdown",
   "id": "9703b5c9-f65e-4e6f-9947-24f23b727e57",
   "metadata": {},
   "source": [
    "To make this work, we need to convert the generator into a list:"
   ]
  },
  {
   "cell_type": "code",
   "execution_count": 24,
   "id": "17b359fe-effe-44e5-8e31-67400233602b",
   "metadata": {
    "tags": []
   },
   "outputs": [
    {
     "data": {
      "text/plain": [
       "5"
      ]
     },
     "execution_count": 24,
     "metadata": {},
     "output_type": "execute_result"
    }
   ],
   "source": [
    "dict_values = mydictionary.values()\n",
    "dict_values = list(dict_values)\n",
    "\n",
    "dict_values[1]"
   ]
  },
  {
   "cell_type": "markdown",
   "id": "698441f5-78f7-480a-8b5b-30aee937659c",
   "metadata": {},
   "source": [
    "## Manipulating Data Structures\n",
    "\n",
    "Once you know how to create and access data structures, you can use some basic python concepts to create them.\n",
    "\n",
    "### Loops\n",
    "\n",
    "The statements `for` and `in` let you loop through a list. This is called, straightforwardly, a \"for loop.\""
   ]
  },
  {
   "cell_type": "code",
   "execution_count": 25,
   "id": "9236e75b-6370-4eb1-bc2f-37daad1f33b6",
   "metadata": {},
   "outputs": [
    {
     "name": "stdout",
     "output_type": "stream",
     "text": [
      "5\n",
      "6\n",
      "7\n"
     ]
    }
   ],
   "source": [
    "# The variable name after the word `for` is a new name you're creating\n",
    "for x in mylist:\n",
    "    print(x)"
   ]
  },
  {
   "cell_type": "markdown",
   "id": "a0674cf5-32a6-4939-af66-db0a512c020a",
   "metadata": {},
   "source": [
    "You can do anything you want inside a for loop to manipulate each item:"
   ]
  },
  {
   "cell_type": "code",
   "execution_count": 26,
   "id": "c03a75ee-1019-4993-b25e-7dedeaccdf86",
   "metadata": {},
   "outputs": [
    {
     "name": "stdout",
     "output_type": "stream",
     "text": [
      "25\n",
      "30\n",
      "35\n"
     ]
    }
   ],
   "source": [
    "for x in mylist:\n",
    "    y = x*5\n",
    "    print(y)"
   ]
  },
  {
   "cell_type": "markdown",
   "id": "90b17178-f337-40ce-84c7-1bad0889b226",
   "metadata": {},
   "source": [
    "If your goal is to create a *new* list with some altered items, you can put a for loop into brackets and run all your code on a single line. This is a special Python concept called a \"list comprehension.\" They keep your code concise and easy to read. The code below does the same thing as above, but puts the items into a brand new list:"
   ]
  },
  {
   "cell_type": "code",
   "execution_count": 27,
   "id": "ad3bc8a5-ab56-4a11-b4e1-1786d9314952",
   "metadata": {},
   "outputs": [
    {
     "data": {
      "text/plain": [
       "[25, 30, 35]"
      ]
     },
     "execution_count": 27,
     "metadata": {},
     "output_type": "execute_result"
    }
   ],
   "source": [
    "newlist = [x*5 for x in mylist]\n",
    "newlist"
   ]
  },
  {
   "cell_type": "markdown",
   "id": "7afed2d4-6e95-487f-922f-10f5fbd4443a",
   "metadata": {},
   "source": [
    "For loops aren't just for lists! You can use for loops with dictionaries, but you need to use the `.items()` method:"
   ]
  },
  {
   "cell_type": "code",
   "execution_count": 30,
   "id": "21c97ea0-e77e-4f98-8c5d-b423c4366da6",
   "metadata": {},
   "outputs": [
    {
     "name": "stdout",
     "output_type": "stream",
     "text": [
      "pet_name Fido\n",
      "age 5\n",
      "pet_type dog\n"
     ]
    }
   ],
   "source": [
    "for k,v in mydictionary.items():\n",
    "    print(k,v)"
   ]
  },
  {
   "cell_type": "markdown",
   "id": "9c3a4d04-4893-40da-beae-65bf2381acb7",
   "metadata": {},
   "source": [
    "### Conditions\n",
    "\n",
    "Commonly used inside loops, conditions let you evaluate true or false statements. They will perform one action `if` a statement is true and a different action if the statement is false (`else`).\n",
    "\n",
    "Conditions typically use operators to compare things to one another. These operators include:\n",
    "\n",
    "- `==` is equal to\n",
    "- `!=` is not equal to\n",
    "- `>` is greater than\n",
    "- `>=` is greater than or equal to\n",
    "- `<` is less than\n",
    "- `<=` is less than or equal to"
   ]
  },
  {
   "cell_type": "code",
   "execution_count": 38,
   "id": "cf0bb6b8-a62a-4976-8f61-ebe368189038",
   "metadata": {},
   "outputs": [
    {
     "name": "stdout",
     "output_type": "stream",
     "text": [
      "Hip\n",
      "Hip\n",
      "Hooray!\n"
     ]
    }
   ],
   "source": [
    "for x in mylist:\n",
    "    if x == 7:\n",
    "        print(\"Hooray!\")\n",
    "    else:\n",
    "        print(\"Hip\")"
   ]
  },
  {
   "cell_type": "markdown",
   "id": "c2e78da6-e479-46fe-8323-f1b77d453618",
   "metadata": {},
   "source": [
    "You can also use `elif` to create a chain of multiple conditions."
   ]
  },
  {
   "cell_type": "code",
   "execution_count": 39,
   "id": "ea83dbd4-6d36-4ce6-8f89-b1984ccd9837",
   "metadata": {},
   "outputs": [
    {
     "name": "stdout",
     "output_type": "stream",
     "text": [
      "small and odd\n",
      "60\n",
      "This is seven.\n",
      "80\n"
     ]
    }
   ],
   "source": [
    "for x in [5, 6, 7, 8]:\n",
    "    if x/2 == 3 or x/2 == 4:\n",
    "        print(x*10)\n",
    "    elif x < 6:\n",
    "        print(\"small and odd\")\n",
    "    else:\n",
    "        print(\"This is seven.\")"
   ]
  },
  {
   "cell_type": "markdown",
   "id": "acb1fff5-7509-470f-a044-a22f40bb8590",
   "metadata": {},
   "source": [
    "### Functions\n",
    "\n",
    "Functions are simply reusable bits of code. In Python, they're generally a word followed by parentheses. Inside the parentheses are *arguments*: bits of data or information that the function needs to work. You've used functions already: `print()`, `range()`, and `type()` are all built-in Python functions:"
   ]
  },
  {
   "cell_type": "code",
   "execution_count": 40,
   "id": "0db29fbf-ffb9-4fd4-9865-98549ddc5a0e",
   "metadata": {},
   "outputs": [
    {
     "data": {
      "text/plain": [
       "dict"
      ]
     },
     "execution_count": 40,
     "metadata": {},
     "output_type": "execute_result"
    }
   ],
   "source": [
    "type(mydictionary)"
   ]
  },
  {
   "cell_type": "markdown",
   "id": "6f668bc1-fe67-40da-8536-7b893ecc54b4",
   "metadata": {},
   "source": [
    "You can easily create your own functions in Python using the `def` statement. You give your function a name and some arguments, and then you tell it what to do. The function should also `return` a value."
   ]
  },
  {
   "cell_type": "code",
   "execution_count": 41,
   "id": "6ac77df2-aecd-4e2d-8f99-25a2a590f85e",
   "metadata": {},
   "outputs": [],
   "source": [
    "# As in a for loop, the `arg` variable is one you're creating on the spot.\n",
    "def myFunction(arg):\n",
    "    x = arg*10\n",
    "    return x"
   ]
  },
  {
   "cell_type": "markdown",
   "id": "ed9fc295-c7df-493c-8805-6c6f586ec22f",
   "metadata": {},
   "source": [
    "Once you create a function, it will be stored in memory for you to use later."
   ]
  },
  {
   "cell_type": "code",
   "execution_count": 42,
   "id": "b89a6d8d-15ec-476a-a7ce-450fda498b7c",
   "metadata": {},
   "outputs": [
    {
     "data": {
      "text/plain": [
       "50"
      ]
     },
     "execution_count": 42,
     "metadata": {},
     "output_type": "execute_result"
    }
   ],
   "source": [
    "myFunction(5)"
   ]
  },
  {
   "cell_type": "code",
   "execution_count": 43,
   "id": "2e4dadc9-f293-47d8-98d5-0181b51b7f81",
   "metadata": {},
   "outputs": [
    {
     "data": {
      "text/plain": [
       "80"
      ]
     },
     "execution_count": 43,
     "metadata": {},
     "output_type": "execute_result"
    }
   ],
   "source": [
    "myFunction(8)"
   ]
  },
  {
   "cell_type": "markdown",
   "id": "de8f6349-bff5-4c92-9a4c-3ea12e121247",
   "metadata": {},
   "source": [
    "```{note}\n",
    "Methods are a lot like functions, but they are attached to an object with a period. For example, in `mydictionary.values()`, `.values()` is a method that gets the dictionary's values.\n",
    "```"
   ]
  },
  {
   "cell_type": "markdown",
   "id": "7b31f750-1846-409c-ba36-67f8f7d9dce8",
   "metadata": {},
   "source": [
    "### Libraries\n",
    "\n",
    "Sometimes you will write functions yourself, and often you will use functions that others have written. The Python community is very large, full of people who've made helpful code that you can reuse. They've packaged this code into *libraries*. Libraries include sets of methods and functions that you can use. In the rest of this book, we'll focus on three large data analysis libraries: `pandas`, `altair`, and `networkx`.\n",
    "\n",
    "To import a library, you can simply use the `import` statement. If you like, you can also abbreviate the name of the library using `as`."
   ]
  },
  {
   "cell_type": "code",
   "execution_count": 44,
   "id": "88c849ae-3bd7-434c-90c4-daa2619edc91",
   "metadata": {},
   "outputs": [],
   "source": [
    "import pandas as pd"
   ]
  },
  {
   "cell_type": "markdown",
   "id": "9773cbf7-8537-4762-b1c1-fbc339ad6f60",
   "metadata": {},
   "source": [
    "Generally importing libraries is the first thing you do, at the very top of your code. Once you've imported a library, you can use any of its functions."
   ]
  },
  {
   "cell_type": "code",
   "execution_count": 47,
   "id": "4e468662-0ad5-4b95-9978-0b58f301ccf8",
   "metadata": {},
   "outputs": [
    {
     "data": {
      "text/plain": [
       "0    5\n",
       "1    6\n",
       "2    7\n",
       "dtype: int64"
      ]
     },
     "execution_count": 47,
     "metadata": {},
     "output_type": "execute_result"
    }
   ],
   "source": [
    "# More on what this function does in the next chapter!\n",
    "pd.Series(mylist)"
   ]
  },
  {
   "cell_type": "markdown",
   "id": "2f0d8d17-0b2b-48e9-9d1d-9ade9d20b517",
   "metadata": {},
   "source": [
    "You can also import just small parts of very large libraries. For example, `networkx` as bipartite functions that you can import like so:"
   ]
  },
  {
   "cell_type": "code",
   "execution_count": 48,
   "id": "a3ca9a21-b93a-45a3-ae82-4fd90b4a7142",
   "metadata": {},
   "outputs": [],
   "source": [
    "from networkx.algorithms import bipartite"
   ]
  },
  {
   "cell_type": "markdown",
   "id": "f78ade30-c6a5-4cbb-907b-3a2c940a248a",
   "metadata": {},
   "source": [
    "This can save time and memory when you only need one or two functions.\n",
    "\n",
    "---\n",
    "\n",
    "That's it for Python basics! In the next chapters, we'll see how to use Python to manipulate tabular data."
   ]
  }
 ],
 "metadata": {
  "kernelspec": {
   "display_name": "Python 3 (ipykernel)",
   "language": "python",
   "name": "python3"
  },
  "language_info": {
   "codemirror_mode": {
    "name": "ipython",
    "version": 3
   },
   "file_extension": ".py",
   "mimetype": "text/x-python",
   "name": "python",
   "nbconvert_exporter": "python",
   "pygments_lexer": "ipython3",
   "version": "3.9.6"
  }
 },
 "nbformat": 4,
 "nbformat_minor": 5
}
