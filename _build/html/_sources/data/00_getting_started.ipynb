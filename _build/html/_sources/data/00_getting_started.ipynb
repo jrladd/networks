{
 "cells": [
  {
   "cell_type": "markdown",
   "id": "e707fb25-4e7b-4587-91e9-ff199105c19e",
   "metadata": {
    "tags": []
   },
   "source": [
    "# Getting Started w/ Python and Jupyter\n",
    "\n",
    "Congratulations! If you've made it this far in the setup, you've already come a long way on this first day of class.\n",
    "\n",
    "This is a Jupyter Notebook, running inside of Jupyter Lab. In this environment, you can run Python code alongside Markdown text. What that means is that you can write code and you can also write prose *explaining* your code. This paradigm is called **Literate Programming**, and it's the most common way of coding for data analysis.\n",
    "\n",
    "You're now ready to run your first bit of Python code. We'll start with the `print()` function, which allows us to output any bit of text. To run the cell below, click anywhere on the code, and then hit SHIFT-ENTER."
   ]
  },
  {
   "cell_type": "code",
   "execution_count": null,
   "id": "4d17ade0-e61a-4e1e-a637-37992b066b48",
   "metadata": {},
   "outputs": [],
   "source": [
    "print(\"Hello world!\")"
   ]
  },
  {
   "cell_type": "markdown",
   "id": "965f9941-0408-4dbe-95c1-0bf45571d99c",
   "metadata": {},
   "source": [
    "Now that you can *run* code, you can also *write* some of your own. Modify the cell below to whatever text you'd like, then run it."
   ]
  },
  {
   "cell_type": "code",
   "execution_count": null,
   "id": "bc79afff-dd21-42f7-9107-a1ce42732333",
   "metadata": {},
   "outputs": [],
   "source": [
    "print(\"Your text here\")"
   ]
  },
  {
   "cell_type": "markdown",
   "id": "b0ba0750-0f35-47d2-af11-e4314c18ed85",
   "metadata": {},
   "source": [
    "In a nutshell, that's what we'll be doing all semester: write a bit of code, run it in a Jupyter Notebook cell, and write text to explain what you did.\n",
    "\n",
    "## Basics of Working with Data\n",
    "\n",
    "We'll have lots of time together next week to learn the ropes with Python and our data analysis workflow. For today, follow along with the cells below to see how the basics work in action.\n",
    "\n",
    "The first thing we'll need to do is import some libraries. For data mining, the essential libraries are Pandas (for organizing and analyzing data), Numpy (for doing complex math), Matplotlib (for creating graphs and plots), and Seaborn (for creating *nice* graphs and plots). All of these are pre-installed with Anaconda. To import them, you use Python's `import` command:"
   ]
  },
  {
   "cell_type": "code",
   "execution_count": null,
   "id": "c46a2f16-46ed-47f2-bc3d-f8838c4ed9bc",
   "metadata": {},
   "outputs": [],
   "source": [
    "import numpy as np\n",
    "import pandas as pd\n",
    "import seaborn as sns\n",
    "import matplotlib.pyplot as plt\n",
    "sns.set_theme() # This last line makes our plots look extra nice"
   ]
  },
  {
   "cell_type": "markdown",
   "id": "0c6b9721-0623-42da-9070-295f20e985b0",
   "metadata": {},
   "source": [
    "Now that we have some libraries, we need some data to begin working. Most of the time in this class, you'll be working with data in separate CSV files. But Seaborn also has some built-in data we can use."
   ]
  },
  {
   "cell_type": "code",
   "execution_count": null,
   "id": "a459af5e-c43e-42b9-8d96-a843d5ecaf24",
   "metadata": {},
   "outputs": [],
   "source": [
    "penguins = sns.load_dataset(\"penguins\")"
   ]
  },
  {
   "cell_type": "markdown",
   "id": "403991f2-9585-4626-8442-455425979ec9",
   "metadata": {},
   "source": [
    "In the command above, we loaded the Palmer Penguins sample dataset, a classic bit of sample data used in machine learning. We saved it in a variable called \"penguins.\" To take a peek at the data, we can simply type `penguins` into an empty cell:"
   ]
  },
  {
   "cell_type": "code",
   "execution_count": null,
   "id": "c59bb7a1-8fe6-4a70-88fe-3964505de86d",
   "metadata": {},
   "outputs": [],
   "source": [
    "penguins"
   ]
  },
  {
   "cell_type": "markdown",
   "id": "ef77676d-2d1e-4771-9e8d-67adaad360c3",
   "metadata": {},
   "source": [
    "What you see above is a DataFrame: a data type in Pandas that stores and organizes data in rows and columns. Think of it like a spreadsheet that you can work with in Python. As you can see above, we have data on 344 penguins (one in each row), and we know about the lengths of those penguins' bills and flippers, the species of penguins, the weight of the penguins, and so on. That's a lot to work with!\n",
    "\n",
    "We can use this data in a lot of different ways (and we will!). For starters, you can run basic summary statistics easily in Pandas. Let's find the average flipper length for all of our penguins:"
   ]
  },
  {
   "cell_type": "code",
   "execution_count": null,
   "id": "00a67dc1-fde7-4023-88fb-bfa7f2a12266",
   "metadata": {},
   "outputs": [],
   "source": [
    "penguins.flipper_length_mm.mean()"
   ]
  },
  {
   "cell_type": "markdown",
   "id": "ce374142-95e3-4a95-b1ad-47ab88d459f6",
   "metadata": {},
   "source": [
    "On average, the flippers of our penguins are about 200mm long!\n",
    "\n",
    "In addition to calculations, with the Seaborn library we can easily make nice-looking visualizations. For example, let's compare bill length and flipper length among all our penguins. Are they correlated?"
   ]
  },
  {
   "cell_type": "code",
   "execution_count": null,
   "id": "57882cf8-2aa0-4dfc-82ab-f616a0cdadd6",
   "metadata": {},
   "outputs": [],
   "source": [
    "sns.relplot(x=\"bill_length_mm\", y=\"flipper_length_mm\", data=penguins)"
   ]
  },
  {
   "cell_type": "markdown",
   "id": "5bf33434-ac28-4cfb-b131-bc6207ddcb4e",
   "metadata": {},
   "source": [
    "They do seem to be correlated! As bill length goes up, flipper length also goes up. This makes sense: bigger penguins would have bigger bills and flippers.\n",
    "\n",
    "But wait, the points on the scatter plot above seem to be clustering into three different groups. What could be going on here? To find out, we can add a color variable to this graph. Let's look at the different species of penguins that we have:"
   ]
  },
  {
   "cell_type": "code",
   "execution_count": null,
   "id": "e2c62c11-bc24-4c68-b858-98e12f9b1f68",
   "metadata": {},
   "outputs": [],
   "source": [
    "sns.relplot(x=\"bill_length_mm\", y=\"flipper_length_mm\", hue=\"species\", data=penguins)"
   ]
  },
  {
   "cell_type": "markdown",
   "id": "1307803a-fb32-4208-a7ad-7dff010d58e0",
   "metadata": {},
   "source": [
    "Aha! This makes sense, too. Not only are bill length and flipper length correlated, there are groups within those values that correspond to the different species of penguins. We'd definitely expect species to have distinct size ranges.\n",
    "\n",
    "---\n",
    "\n",
    "Over the course of this semester, you'll learn how to do everything we just did above and a lot more. We'll start with exploratory data analysis and work our way toward advanced machine learning techniques. Along the way we'll explore data from a wide variety of fields and disciplines. What you've done today is a great first step!"
   ]
  }
 ],
 "metadata": {
  "kernelspec": {
   "display_name": "Python 3 (ipykernel)",
   "language": "python",
   "name": "python3"
  },
  "language_info": {
   "codemirror_mode": {
    "name": "ipython",
    "version": 3
   },
   "file_extension": ".py",
   "mimetype": "text/x-python",
   "name": "python",
   "nbconvert_exporter": "python",
   "pygments_lexer": "ipython3",
   "version": "3.9.12"
  }
 },
 "nbformat": 4,
 "nbformat_minor": 5
}
