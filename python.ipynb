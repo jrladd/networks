{
 "cells": [
  {
   "cell_type": "markdown",
   "id": "f4ae9ac3-89e8-47c6-904c-bc1cc96e719a",
   "metadata": {},
   "source": [
    "# Python Basics\n",
    "\n",
    "## Variables\n",
    "\n",
    "Use the `=` sign to store anything inside a variable."
   ]
  },
  {
   "cell_type": "code",
   "execution_count": 1,
   "id": "8334bc84-cd41-45e3-94a1-0c398a58ace4",
   "metadata": {
    "tags": []
   },
   "outputs": [
    {
     "name": "stdout",
     "output_type": "stream",
     "text": [
      "5\n"
     ]
    }
   ],
   "source": [
    "myvar = 5\n",
    "print(myvar)"
   ]
  },
  {
   "cell_type": "markdown",
   "id": "733a928a-6b63-4b00-973f-128f4f2144d2",
   "metadata": {},
   "source": [
    "Use descriptive variable names and avoid spaces! You can try:\n",
    "\n",
    "```\n",
    "snake_case\n",
    "camelCase\n",
    "OrEven_mix_it_up\n",
    "```\n",
    "\n",
    "Variables have distinct types, and you can find out a variable's data type with the `type()` function."
   ]
  },
  {
   "cell_type": "code",
   "execution_count": 2,
   "id": "ade40110-fe2d-4df2-806d-d7e839a77c8c",
   "metadata": {
    "tags": []
   },
   "outputs": [
    {
     "data": {
      "text/plain": [
       "int"
      ]
     },
     "execution_count": 2,
     "metadata": {},
     "output_type": "execute_result"
    }
   ],
   "source": [
    "type(myvar)"
   ]
  },
  {
   "cell_type": "code",
   "execution_count": 3,
   "id": "b6db8778-c069-4826-b3da-d7ce8f928a8a",
   "metadata": {
    "tags": []
   },
   "outputs": [
    {
     "data": {
      "text/plain": [
       "str"
      ]
     },
     "execution_count": 3,
     "metadata": {},
     "output_type": "execute_result"
    }
   ],
   "source": [
    "stringvar = \"five\"\n",
    "type(stringvar)"
   ]
  },
  {
   "cell_type": "markdown",
   "id": "07d75fc3-ffef-4a53-9977-2382dce3c239",
   "metadata": {},
   "source": [
    "## Comments\n",
    "\n",
    "Use the `#` sign at the start of a line to create a comment. "
   ]
  },
  {
   "cell_type": "code",
   "execution_count": 4,
   "id": "ffda5ac8-8314-4eb8-a441-3a4cdf154aab",
   "metadata": {
    "tags": []
   },
   "outputs": [],
   "source": [
    "# This variable contains a continuous value\n",
    "some_variable = 2.5"
   ]
  },
  {
   "cell_type": "markdown",
   "id": "234b062f-5698-4a85-beef-ca6e0c39d967",
   "metadata": {},
   "source": [
    "You can use comments to keep track of what you're using, leave a note for someone working after you, and especially to *create a citation if the code you're using isn't your own*.\n",
    "\n",
    "# Data Structures\n",
    "\n",
    "Python contains several useful data structures. These overlap with the data structures available in other languages, but they often have different names.\n",
    "\n",
    "## Lists\n",
    "\n",
    "Lists are analogous to arrays in other languages. They use brackets to contain ordered lists of data."
   ]
  },
  {
   "cell_type": "code",
   "execution_count": 5,
   "id": "c1c924a9-d354-4ff4-9a8d-d721e7e53810",
   "metadata": {
    "tags": []
   },
   "outputs": [
    {
     "name": "stdout",
     "output_type": "stream",
     "text": [
      "[5, 6, 7]\n"
     ]
    }
   ],
   "source": [
    "mylist = [5,6,7]\n",
    "\n",
    "secondlist = [\"cat\",\"dog\",\"fish\"]\n",
    "\n",
    "print(mylist)"
   ]
  },
  {
   "cell_type": "markdown",
   "id": "18f58f87-87dc-4624-a7bc-cbcfc566c719",
   "metadata": {},
   "source": [
    "In a list, you can easily access items using \"list slicing,\" a bracket notation that lets you access list items with their index."
   ]
  },
  {
   "cell_type": "code",
   "execution_count": 6,
   "id": "25b94207-6580-47b6-9eec-eba9b1dbcc5c",
   "metadata": {
    "tags": []
   },
   "outputs": [
    {
     "data": {
      "text/plain": [
       "5"
      ]
     },
     "execution_count": 6,
     "metadata": {},
     "output_type": "execute_result"
    }
   ],
   "source": [
    "# Get the first item in a list, at index 0\n",
    "mylist[0]"
   ]
  },
  {
   "cell_type": "code",
   "execution_count": 14,
   "id": "9090baef-df42-4350-b722-982e7a5a97f0",
   "metadata": {
    "tags": []
   },
   "outputs": [
    {
     "data": {
      "text/plain": [
       "['dog', 'fish']"
      ]
     },
     "execution_count": 14,
     "metadata": {},
     "output_type": "execute_result"
    }
   ],
   "source": [
    "# Get several items in a list, with a range of values\n",
    "secondlist[1:3]"
   ]
  },
  {
   "cell_type": "code",
   "execution_count": 15,
   "id": "fd2c4743-14fc-42ea-a354-bc8bf2bc547a",
   "metadata": {
    "tags": []
   },
   "outputs": [
    {
     "data": {
      "text/plain": [
       "7"
      ]
     },
     "execution_count": 15,
     "metadata": {},
     "output_type": "execute_result"
    }
   ],
   "source": [
    "# Get items from the end of a list with negative values\n",
    "mylist[-1]"
   ]
  },
  {
   "cell_type": "markdown",
   "id": "fc0cbe56-3266-423f-a311-4f2d38e9a8a2",
   "metadata": {},
   "source": [
    "n.b. Python also has *tuples*, which are a lot like lists but use parentheses instead of brackets. i.e. `(1, 2, 3)`"
   ]
  },
  {
   "cell_type": "markdown",
   "id": "c1543d90-8455-4c91-853d-c436af91eeb2",
   "metadata": {},
   "source": [
    "## Sets\n",
    "\n",
    "Sets are like lists, but they include only unique items. They use braces instead of brackets."
   ]
  },
  {
   "cell_type": "code",
   "execution_count": 16,
   "id": "5665ad7c-1e8f-404f-a0b0-3518effc5a2d",
   "metadata": {
    "tags": []
   },
   "outputs": [
    {
     "name": "stdout",
     "output_type": "stream",
     "text": [
      "{1, 2, 3, 4}\n"
     ]
    }
   ],
   "source": [
    "myset = {1, 2, 3, 4}\n",
    "print(myset)"
   ]
  },
  {
   "cell_type": "markdown",
   "id": "fb0e406e-3bf5-4a0c-b4a9-8290e3c381f9",
   "metadata": {},
   "source": [
    "You can turn a list into a set to get only the unique items in that list:"
   ]
  },
  {
   "cell_type": "code",
   "execution_count": 18,
   "id": "972f9967-0a0a-4440-ab5a-0954b0617b16",
   "metadata": {
    "tags": []
   },
   "outputs": [
    {
     "data": {
      "text/plain": [
       "{1, 2, 3, 4, 5, 6}"
      ]
     },
     "execution_count": 18,
     "metadata": {},
     "output_type": "execute_result"
    }
   ],
   "source": [
    "repeating_list = [1, 2, 1, 3, 3, 5, 4, 6, 4, 1]\n",
    "set(repeating_list)"
   ]
  },
  {
   "cell_type": "markdown",
   "id": "23e8ba87-0e31-468c-98b8-555117cbf6d0",
   "metadata": {},
   "source": [
    "Sets have special operators to combine sets and find intersections."
   ]
  },
  {
   "cell_type": "code",
   "execution_count": 24,
   "id": "298f586f-6e18-4b17-9a34-7f39d93b24aa",
   "metadata": {
    "tags": []
   },
   "outputs": [
    {
     "data": {
      "text/plain": [
       "{1, 2, 3, 4, 5}"
      ]
     },
     "execution_count": 24,
     "metadata": {},
     "output_type": "execute_result"
    }
   ],
   "source": [
    "set1 = {1, 2, 3}\n",
    "set2 = {3, 4, 5}\n",
    "\n",
    "# Items in either set\n",
    "set1 | set2"
   ]
  },
  {
   "cell_type": "code",
   "execution_count": 21,
   "id": "65c30c86-4c9d-4ef6-b862-32436cb0d97c",
   "metadata": {
    "tags": []
   },
   "outputs": [
    {
     "data": {
      "text/plain": [
       "{3}"
      ]
     },
     "execution_count": 21,
     "metadata": {},
     "output_type": "execute_result"
    }
   ],
   "source": [
    "# Items in both sets\n",
    "set1 & set2"
   ]
  },
  {
   "cell_type": "code",
   "execution_count": 22,
   "id": "0919a0d1-2b5a-4ff2-a4ce-5f9c0b43a966",
   "metadata": {
    "tags": []
   },
   "outputs": [
    {
     "data": {
      "text/plain": [
       "{1, 2}"
      ]
     },
     "execution_count": 22,
     "metadata": {},
     "output_type": "execute_result"
    }
   ],
   "source": [
    "# Items in one set but not the other\n",
    "set1 - set2"
   ]
  },
  {
   "cell_type": "code",
   "execution_count": 23,
   "id": "e77f2673-3bf4-4168-8c7a-23cc54a5f192",
   "metadata": {
    "tags": []
   },
   "outputs": [
    {
     "data": {
      "text/plain": [
       "{1, 2, 4, 5}"
      ]
     },
     "execution_count": 23,
     "metadata": {},
     "output_type": "execute_result"
    }
   ],
   "source": [
    "# Items in either set but not both\n",
    "set1 ^ set2"
   ]
  },
  {
   "cell_type": "markdown",
   "id": "e2ddfc30-f47f-41c9-bc7a-e27ccc7a4a34",
   "metadata": {},
   "source": [
    "## Dictionaries\n",
    "\n",
    "Dictionaries are analogous to objects in other languages. They contain key-value pairs, and they're also surrounded by brackets."
   ]
  },
  {
   "cell_type": "code",
   "execution_count": 25,
   "id": "df2f75ed-6fc9-45dd-b9cb-dc1d6d731d06",
   "metadata": {
    "tags": []
   },
   "outputs": [
    {
     "name": "stdout",
     "output_type": "stream",
     "text": [
      "{'pet_name': 'Fido', 'age': 5, 'pet_type': 'dog'}\n"
     ]
    }
   ],
   "source": [
    "mydictionary = {\"pet_name\": \"Fido\", \"age\": 5, \"pet_type\": \"dog\"}\n",
    "print(mydictionary)"
   ]
  },
  {
   "cell_type": "markdown",
   "id": "e34f9075-1229-4ec7-a2d2-91e3d5473e6b",
   "metadata": {},
   "source": [
    "You can access items in a dictionary using bracket notation, similar to list slicing."
   ]
  },
  {
   "cell_type": "code",
   "execution_count": 26,
   "id": "df8d90eb-ddf5-4a63-b6bb-15089e4ebeed",
   "metadata": {
    "tags": []
   },
   "outputs": [
    {
     "data": {
      "text/plain": [
       "'Fido'"
      ]
     },
     "execution_count": 26,
     "metadata": {},
     "output_type": "execute_result"
    }
   ],
   "source": [
    "mydictionary[\"pet_name\"]"
   ]
  },
  {
   "cell_type": "code",
   "execution_count": 27,
   "id": "4966abc7-9688-44f8-9152-9f5b9cebbf5e",
   "metadata": {
    "tags": []
   },
   "outputs": [
    {
     "data": {
      "text/plain": [
       "5"
      ]
     },
     "execution_count": 27,
     "metadata": {},
     "output_type": "execute_result"
    }
   ],
   "source": [
    "mydictionary[\"age\"]"
   ]
  },
  {
   "cell_type": "markdown",
   "id": "355cc694-a882-494e-b422-f118594a9204",
   "metadata": {},
   "source": [
    "## Generators\n",
    "\n",
    "Some functions and methods in Python output generators instead of a distinct data type. These generators often need to be converted to a specific data type before they can be used.\n",
    "\n",
    "For example, the dictionary method `.values()` gets the values of a dictionary as a generator:"
   ]
  },
  {
   "cell_type": "code",
   "execution_count": 30,
   "id": "fc4abf2f-3d4b-46c4-a3e0-92f87d4163b7",
   "metadata": {
    "tags": []
   },
   "outputs": [
    {
     "data": {
      "text/plain": [
       "dict_values(['Fido', 5, 'dog'])"
      ]
     },
     "execution_count": 30,
     "metadata": {},
     "output_type": "execute_result"
    }
   ],
   "source": [
    "mydictionary.values()"
   ]
  },
  {
   "cell_type": "markdown",
   "id": "6e95bba1-2c38-454a-bbf2-b688fe57b864",
   "metadata": {},
   "source": [
    "We can see those values above, but we can't access them in the way we would a list. The code below will throw an error:"
   ]
  },
  {
   "cell_type": "code",
   "execution_count": 31,
   "id": "cc3436ce-4ecf-4a96-9abe-5383c768c112",
   "metadata": {
    "tags": []
   },
   "outputs": [
    {
     "ename": "TypeError",
     "evalue": "'dict_values' object is not subscriptable",
     "output_type": "error",
     "traceback": [
      "\u001b[0;31m---------------------------------------------------------------------------\u001b[0m",
      "\u001b[0;31mTypeError\u001b[0m                                 Traceback (most recent call last)",
      "Cell \u001b[0;32mIn[31], line 1\u001b[0m\n\u001b[0;32m----> 1\u001b[0m \u001b[43mmydictionary\u001b[49m\u001b[38;5;241;43m.\u001b[39;49m\u001b[43mvalues\u001b[49m\u001b[43m(\u001b[49m\u001b[43m)\u001b[49m\u001b[43m[\u001b[49m\u001b[38;5;241;43m1\u001b[39;49m\u001b[43m]\u001b[49m\n",
      "\u001b[0;31mTypeError\u001b[0m: 'dict_values' object is not subscriptable"
     ]
    }
   ],
   "source": [
    "mydictionary.values()[1]"
   ]
  },
  {
   "cell_type": "markdown",
   "id": "9703b5c9-f65e-4e6f-9947-24f23b727e57",
   "metadata": {},
   "source": [
    "To make this work, we need to convert the generator into a list:"
   ]
  },
  {
   "cell_type": "code",
   "execution_count": 32,
   "id": "17b359fe-effe-44e5-8e31-67400233602b",
   "metadata": {
    "tags": []
   },
   "outputs": [
    {
     "data": {
      "text/plain": [
       "5"
      ]
     },
     "execution_count": 32,
     "metadata": {},
     "output_type": "execute_result"
    }
   ],
   "source": [
    "dict_values = mydictionary.values()\n",
    "dict_values = list(dict_values)\n",
    "\n",
    "dict_values[1]"
   ]
  },
  {
   "cell_type": "markdown",
   "id": "698441f5-78f7-480a-8b5b-30aee937659c",
   "metadata": {},
   "source": [
    "# Functions, Loops, and Conditions"
   ]
  }
 ],
 "metadata": {
  "kernelspec": {
   "display_name": "Python 3 (ipykernel)",
   "language": "python",
   "name": "python3"
  },
  "language_info": {
   "codemirror_mode": {
    "name": "ipython",
    "version": 3
   },
   "file_extension": ".py",
   "mimetype": "text/x-python",
   "name": "python",
   "nbconvert_exporter": "python",
   "pygments_lexer": "ipython3",
   "version": "3.9.6"
  }
 },
 "nbformat": 4,
 "nbformat_minor": 5
}
